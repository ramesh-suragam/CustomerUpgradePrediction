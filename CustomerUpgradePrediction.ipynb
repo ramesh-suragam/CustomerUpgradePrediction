{
 "cells": [
  {
   "cell_type": "markdown",
   "metadata": {},
   "source": [
    "# Problem Statement\n",
    "\n",
    "#### Upgrade propensity model\n",
    "\n",
    "In this task, we ask you to do an analysis to predict what customers will be most likely to upgrade\n",
    "We provide a small sample of data you build the propensity model with, please note that this is dummy data but similar in construct to data you may be working with.\n",
    "You will use this dataset to build your model.\n",
    "\n",
    "#### Task list\n",
    "- Data exploration, data cleaning and feature engineering. Remember to comment each step properly.\n",
    "- Explanatory analysis. Include key insights in the presentation\n",
    "- Modelling/Training\n",
    "- Prepare a presentation for both a data science and a business audience and present the analysis to both, this will be the first part of the interview. Use visualisations and tell compelling stories. Tell us what is the message(s) for the business? What actionable insights you can provide to the business?\n",
    "- Don’t limit yourself to the requested tasks. \n",
    "\n",
    "#### Required Output\n",
    "- Fully commented code \n",
    "- Modelling dataset (CSV file)\n",
    "- Visualisation tool files (if anything)\n",
    "- Slides of presentations, including but not limited to:\n",
    "    - Problem statement, Assumptions, Hypotheses\n",
    "    - Exploratory analysis\n",
    "    - Modelling approach\n",
    "    - Results\n",
    "        - Model performance measures\n",
    "        - Business audience performance measures\n",
    "        - Insights\n",
    "    - Recommendations"
   ]
  },
  {
   "cell_type": "markdown",
   "metadata": {},
   "source": [
    "# Data Exploration and Preparation"
   ]
  },
  {
   "cell_type": "markdown",
   "metadata": {},
   "source": [
    "## Loading the data\n",
    "\n",
    "- This section includes loading of the data, understanding basic description of the data; followed by cleanup & imputations if required."
   ]
  },
  {
   "cell_type": "code",
   "execution_count": 155,
   "metadata": {},
   "outputs": [],
   "source": [
    "# Importing the required packages\n",
    "\n",
    "import random\n",
    "import numpy as np\n",
    "import pandas as pd\n",
    "from matplotlib import pyplot\n",
    "import seaborn as sns\n",
    "from collections import Counter\n",
    "\n",
    "%matplotlib inline\n",
    "\n",
    "# from statsmodels.stats.outliers_influence import variance_inflation_factor\n",
    "# from sklearn.model_selection import train_test_split\n",
    "# import category_encoders as ce\n",
    "\n",
    "\n",
    "# # from statsmodels.stats.outliers_influence import variance_inflation_factor\n",
    "# from sklearn.model_selection import GridSearchCV\n",
    "# from sklearn.linear_model import LogisticRegression\n",
    "# from sklearn.ensemble import RandomForestClassifier\n",
    "# from imblearn.ensemble import BalancedRandomForestClassifier, EasyEnsembleClassifier\n",
    "# from xgboost import XGBClassifier\n",
    "# from sklearn import metrics\n",
    "# from sklearn.metrics import classification_report,accuracy_score,precision_score,recall_score,confusion_matrix,roc_auc_score,f1_score, precision_recall_curve,auc\n",
    "# from sklearn.preprocessing import MinMaxScaler, StandardScaler\n",
    "# from imblearn.over_sampling import SMOTE\n",
    "# from imblearn.under_sampling import RandomUnderSampler\n",
    "# from imblearn.over_sampling import RandomOverSampler\n",
    "# from imblearn.pipeline import Pipeline\n",
    "# from sklearn.model_selection import cross_val_score, cross_validate, KFold, StratifiedKFold, RepeatedStratifiedKFold\n",
    "# from sklearn.discriminant_analysis import LinearDiscriminantAnalysis\n",
    "# from sklearn.decomposition import PCA\n",
    "# from imblearn.combine import SMOTEENN\n",
    "# from IPython.display import display\n",
    "# from sklearn.compose import ColumnTransformer\n",
    "\n",
    "# import warnings\n",
    "# warnings.filterwarnings('ignore')\n",
    "\n",
    "# import pickle"
   ]
  },
  {
   "cell_type": "code",
   "execution_count": 156,
   "metadata": {},
   "outputs": [
    {
     "name": "stdout",
     "output_type": "stream",
     "text": [
      "Shape of data is: (10350, 18)\n",
      "Shape of upgrades dataset is: (10350, 2)\n"
     ]
    }
   ],
   "source": [
    "# Loading at the data and looking at the shape\n",
    "\n",
    "data = pd.read_excel(r'data/DATA.xlsx')\n",
    "print('Shape of data is:', data.shape)\n",
    "upgrades = pd.read_excel(r'data/UPGRADES.xlsx')\n",
    "print('Shape of upgrades dataset is:', upgrades.shape)"
   ]
  },
  {
   "cell_type": "code",
   "execution_count": 157,
   "metadata": {},
   "outputs": [
    {
     "data": {
      "text/html": [
       "<div>\n",
       "<style scoped>\n",
       "    .dataframe tbody tr th:only-of-type {\n",
       "        vertical-align: middle;\n",
       "    }\n",
       "\n",
       "    .dataframe tbody tr th {\n",
       "        vertical-align: top;\n",
       "    }\n",
       "\n",
       "    .dataframe thead th {\n",
       "        text-align: right;\n",
       "    }\n",
       "</style>\n",
       "<table border=\"1\" class=\"dataframe\">\n",
       "  <thead>\n",
       "    <tr style=\"text-align: right;\">\n",
       "      <th></th>\n",
       "      <th>SUBSCRIPTION_KEY</th>\n",
       "      <th>AVERAGE_SPEND</th>\n",
       "      <th>VOICE_OFFNET_CNT_L3M</th>\n",
       "      <th>VOICE_OFFNET_DUR_L3M</th>\n",
       "      <th>VOICE_OUTBOUND_ROAM_CNT_L3M</th>\n",
       "      <th>SMS_OFFNET_CNT_L3M</th>\n",
       "      <th>SMS_OUTBOUND_ROAM_CNT_L3M</th>\n",
       "      <th>DATA_CNT_L3M</th>\n",
       "      <th>DATA_VOLUME_L3M</th>\n",
       "      <th>NUM_OF_UPGRADES</th>\n",
       "      <th>HANDSET_FIRST_DATE</th>\n",
       "      <th>HANDSET_LATEST_DATE</th>\n",
       "      <th>LOYALTY_FLAG</th>\n",
       "      <th>SEGMENT</th>\n",
       "      <th>TOPUP_VALUE_L3M</th>\n",
       "      <th>TOPUP_CNT_L3M</th>\n",
       "      <th>CALLS_CARE_CNTS_L6M</th>\n",
       "      <th>AUTO_TOPUP</th>\n",
       "    </tr>\n",
       "  </thead>\n",
       "  <tbody>\n",
       "    <tr>\n",
       "      <th>0</th>\n",
       "      <td>462713</td>\n",
       "      <td>2.71</td>\n",
       "      <td>6</td>\n",
       "      <td>283</td>\n",
       "      <td>0.0</td>\n",
       "      <td>2</td>\n",
       "      <td>0.0</td>\n",
       "      <td>0.0</td>\n",
       "      <td>0.0</td>\n",
       "      <td>2.0</td>\n",
       "      <td>2015-09-26</td>\n",
       "      <td>2016-01-07</td>\n",
       "      <td>No</td>\n",
       "      <td>Segment3</td>\n",
       "      <td>8.1301</td>\n",
       "      <td>1.0</td>\n",
       "      <td>0.0</td>\n",
       "      <td>N</td>\n",
       "    </tr>\n",
       "    <tr>\n",
       "      <th>1</th>\n",
       "      <td>272924</td>\n",
       "      <td>16.26</td>\n",
       "      <td>3</td>\n",
       "      <td>34</td>\n",
       "      <td>1.0</td>\n",
       "      <td>13</td>\n",
       "      <td>9.0</td>\n",
       "      <td>0.0</td>\n",
       "      <td>0.0</td>\n",
       "      <td>0.0</td>\n",
       "      <td>2015-07-24</td>\n",
       "      <td>2016-01-07</td>\n",
       "      <td>Yes</td>\n",
       "      <td>Segment4</td>\n",
       "      <td>48.7806</td>\n",
       "      <td>3.0</td>\n",
       "      <td>1.0</td>\n",
       "      <td>N</td>\n",
       "    </tr>\n",
       "    <tr>\n",
       "      <th>2</th>\n",
       "      <td>319500</td>\n",
       "      <td>5.42</td>\n",
       "      <td>15</td>\n",
       "      <td>2,477</td>\n",
       "      <td>0.0</td>\n",
       "      <td>36</td>\n",
       "      <td>0.0</td>\n",
       "      <td>0.0</td>\n",
       "      <td>0.0</td>\n",
       "      <td>0.0</td>\n",
       "      <td>2012-09-04</td>\n",
       "      <td>2016-01-07</td>\n",
       "      <td>No</td>\n",
       "      <td>Segment2</td>\n",
       "      <td>16.2602</td>\n",
       "      <td>1.0</td>\n",
       "      <td>0.0</td>\n",
       "      <td>N</td>\n",
       "    </tr>\n",
       "    <tr>\n",
       "      <th>3</th>\n",
       "      <td>106425</td>\n",
       "      <td>16.26</td>\n",
       "      <td>8</td>\n",
       "      <td>1,702</td>\n",
       "      <td>0.0</td>\n",
       "      <td>25</td>\n",
       "      <td>0.0</td>\n",
       "      <td>0.0</td>\n",
       "      <td>0.0</td>\n",
       "      <td>0.0</td>\n",
       "      <td>2014-10-10</td>\n",
       "      <td>2016-01-07</td>\n",
       "      <td>No</td>\n",
       "      <td>Segment4</td>\n",
       "      <td>48.7806</td>\n",
       "      <td>3.0</td>\n",
       "      <td>0.0</td>\n",
       "      <td>N</td>\n",
       "    </tr>\n",
       "    <tr>\n",
       "      <th>4</th>\n",
       "      <td>90315</td>\n",
       "      <td>2.71</td>\n",
       "      <td>2</td>\n",
       "      <td>106</td>\n",
       "      <td>0.0</td>\n",
       "      <td>25</td>\n",
       "      <td>0.0</td>\n",
       "      <td>0.0</td>\n",
       "      <td>0.0</td>\n",
       "      <td>0.0</td>\n",
       "      <td>2015-05-17</td>\n",
       "      <td>2016-01-07</td>\n",
       "      <td>No</td>\n",
       "      <td>Segment3</td>\n",
       "      <td>8.1301</td>\n",
       "      <td>1.0</td>\n",
       "      <td>0.0</td>\n",
       "      <td>N</td>\n",
       "    </tr>\n",
       "  </tbody>\n",
       "</table>\n",
       "</div>"
      ],
      "text/plain": [
       "   SUBSCRIPTION_KEY  AVERAGE_SPEND  VOICE_OFFNET_CNT_L3M  \\\n",
       "0            462713           2.71                     6   \n",
       "1            272924          16.26                     3   \n",
       "2            319500           5.42                    15   \n",
       "3            106425          16.26                     8   \n",
       "4             90315           2.71                     2   \n",
       "\n",
       "                        VOICE_OFFNET_DUR_L3M  VOICE_OUTBOUND_ROAM_CNT_L3M  \\\n",
       "0                                        283                          0.0   \n",
       "1                                         34                          1.0   \n",
       "2                                      2,477                          0.0   \n",
       "3                                      1,702                          0.0   \n",
       "4                                        106                          0.0   \n",
       "\n",
       "                          SMS_OFFNET_CNT_L3M  SMS_OUTBOUND_ROAM_CNT_L3M  \\\n",
       "0                                          2                        0.0   \n",
       "1                                         13                        9.0   \n",
       "2                                         36                        0.0   \n",
       "3                                         25                        0.0   \n",
       "4                                         25                        0.0   \n",
       "\n",
       "   DATA_CNT_L3M  DATA_VOLUME_L3M  NUM_OF_UPGRADES HANDSET_FIRST_DATE  \\\n",
       "0           0.0              0.0              2.0         2015-09-26   \n",
       "1           0.0              0.0              0.0         2015-07-24   \n",
       "2           0.0              0.0              0.0         2012-09-04   \n",
       "3           0.0              0.0              0.0         2014-10-10   \n",
       "4           0.0              0.0              0.0         2015-05-17   \n",
       "\n",
       "  HANDSET_LATEST_DATE LOYALTY_FLAG   SEGMENT  TOPUP_VALUE_L3M  TOPUP_CNT_L3M  \\\n",
       "0          2016-01-07           No  Segment3           8.1301            1.0   \n",
       "1          2016-01-07          Yes  Segment4          48.7806            3.0   \n",
       "2          2016-01-07           No  Segment2          16.2602            1.0   \n",
       "3          2016-01-07           No  Segment4          48.7806            3.0   \n",
       "4          2016-01-07           No  Segment3           8.1301            1.0   \n",
       "\n",
       "   CALLS_CARE_CNTS_L6M AUTO_TOPUP  \n",
       "0                  0.0          N  \n",
       "1                  1.0          N  \n",
       "2                  0.0          N  \n",
       "3                  0.0          N  \n",
       "4                  0.0          N  "
      ]
     },
     "execution_count": 157,
     "metadata": {},
     "output_type": "execute_result"
    }
   ],
   "source": [
    "data.head()"
   ]
  },
  {
   "cell_type": "code",
   "execution_count": 158,
   "metadata": {},
   "outputs": [
    {
     "data": {
      "text/html": [
       "<div>\n",
       "<style scoped>\n",
       "    .dataframe tbody tr th:only-of-type {\n",
       "        vertical-align: middle;\n",
       "    }\n",
       "\n",
       "    .dataframe tbody tr th {\n",
       "        vertical-align: top;\n",
       "    }\n",
       "\n",
       "    .dataframe thead th {\n",
       "        text-align: right;\n",
       "    }\n",
       "</style>\n",
       "<table border=\"1\" class=\"dataframe\">\n",
       "  <thead>\n",
       "    <tr style=\"text-align: right;\">\n",
       "      <th></th>\n",
       "      <th>SUBSCRIPTION_KEY</th>\n",
       "      <th>UPGRADE_FLAG</th>\n",
       "    </tr>\n",
       "  </thead>\n",
       "  <tbody>\n",
       "    <tr>\n",
       "      <th>0</th>\n",
       "      <td>462713</td>\n",
       "      <td>NO</td>\n",
       "    </tr>\n",
       "    <tr>\n",
       "      <th>1</th>\n",
       "      <td>272924</td>\n",
       "      <td>NO</td>\n",
       "    </tr>\n",
       "    <tr>\n",
       "      <th>2</th>\n",
       "      <td>319500</td>\n",
       "      <td>NO</td>\n",
       "    </tr>\n",
       "    <tr>\n",
       "      <th>3</th>\n",
       "      <td>106425</td>\n",
       "      <td>NO</td>\n",
       "    </tr>\n",
       "    <tr>\n",
       "      <th>4</th>\n",
       "      <td>90315</td>\n",
       "      <td>NO</td>\n",
       "    </tr>\n",
       "  </tbody>\n",
       "</table>\n",
       "</div>"
      ],
      "text/plain": [
       "   SUBSCRIPTION_KEY UPGRADE_FLAG\n",
       "0            462713           NO\n",
       "1            272924           NO\n",
       "2            319500           NO\n",
       "3            106425           NO\n",
       "4             90315           NO"
      ]
     },
     "execution_count": 158,
     "metadata": {},
     "output_type": "execute_result"
    }
   ],
   "source": [
    "upgrades.head()"
   ]
  },
  {
   "cell_type": "code",
   "execution_count": 159,
   "metadata": {},
   "outputs": [],
   "source": [
    "# Merging upgrades info with data\n",
    "data = pd.merge(data, upgrades, on='SUBSCRIPTION_KEY')"
   ]
  },
  {
   "cell_type": "markdown",
   "metadata": {},
   "source": [
    "## Variable Identification"
   ]
  },
  {
   "cell_type": "code",
   "execution_count": 160,
   "metadata": {},
   "outputs": [
    {
     "data": {
      "text/plain": [
       "SUBSCRIPTION_KEY                        int64\n",
       "AVERAGE_SPEND                         float64\n",
       "VOICE_OFFNET_CNT_L3M                    int64\n",
       "VOICE_OFFNET_DUR_L3M                   object\n",
       "VOICE_OUTBOUND_ROAM_CNT_L3M           float64\n",
       "SMS_OFFNET_CNT_L3M                     object\n",
       "SMS_OUTBOUND_ROAM_CNT_L3M             float64\n",
       "DATA_CNT_L3M                          float64\n",
       "DATA_VOLUME_L3M                       float64\n",
       "NUM_OF_UPGRADES                       float64\n",
       "HANDSET_FIRST_DATE             datetime64[ns]\n",
       "HANDSET_LATEST_DATE            datetime64[ns]\n",
       "LOYALTY_FLAG                           object\n",
       "SEGMENT                                object\n",
       "TOPUP_VALUE_L3M                       float64\n",
       "TOPUP_CNT_L3M                         float64\n",
       "CALLS_CARE_CNTS_L6M                   float64\n",
       "AUTO_TOPUP                             object\n",
       "UPGRADE_FLAG                           object\n",
       "dtype: object"
      ]
     },
     "execution_count": 160,
     "metadata": {},
     "output_type": "execute_result"
    }
   ],
   "source": [
    "# Looking at individual features\n",
    "data.dtypes"
   ]
  },
  {
   "cell_type": "code",
   "execution_count": 161,
   "metadata": {},
   "outputs": [
    {
     "name": "stdout",
     "output_type": "stream",
     "text": [
      "Counter({'NO': 10000, 'YES': 350})\n"
     ]
    }
   ],
   "source": [
    "# Checking the count of unique target values\n",
    "print(Counter(data['UPGRADE_FLAG']))"
   ]
  },
  {
   "cell_type": "code",
   "execution_count": 162,
   "metadata": {},
   "outputs": [
    {
     "data": {
      "text/plain": [
       "SUBSCRIPTION_KEY               10350\n",
       "AVERAGE_SPEND                     58\n",
       "VOICE_OFFNET_CNT_L3M             143\n",
       "VOICE_OFFNET_DUR_L3M            2954\n",
       "VOICE_OUTBOUND_ROAM_CNT_L3M       73\n",
       "SMS_OFFNET_CNT_L3M               626\n",
       "SMS_OUTBOUND_ROAM_CNT_L3M        114\n",
       "DATA_CNT_L3M                       1\n",
       "DATA_VOLUME_L3M                    1\n",
       "NUM_OF_UPGRADES                    4\n",
       "HANDSET_FIRST_DATE              1402\n",
       "HANDSET_LATEST_DATE                1\n",
       "LOYALTY_FLAG                       2\n",
       "SEGMENT                            5\n",
       "TOPUP_VALUE_L3M                  110\n",
       "TOPUP_CNT_L3M                     12\n",
       "CALLS_CARE_CNTS_L6M                9\n",
       "AUTO_TOPUP                         2\n",
       "UPGRADE_FLAG                       2\n",
       "dtype: int64"
      ]
     },
     "execution_count": 162,
     "metadata": {},
     "output_type": "execute_result"
    }
   ],
   "source": [
    "# Checking for unique values\n",
    "\n",
    "data.nunique()"
   ]
  },
  {
   "cell_type": "code",
   "execution_count": 163,
   "metadata": {},
   "outputs": [
    {
     "data": {
      "text/plain": [
       "AVERAGE_SPEND                  50\n",
       "VOICE_OUTBOUND_ROAM_CNT_L3M    50\n",
       "SMS_OUTBOUND_ROAM_CNT_L3M      50\n",
       "DATA_CNT_L3M                   50\n",
       "DATA_VOLUME_L3M                50\n",
       "NUM_OF_UPGRADES                50\n",
       "LOYALTY_FLAG                   50\n",
       "SEGMENT                        50\n",
       "TOPUP_VALUE_L3M                50\n",
       "TOPUP_CNT_L3M                  50\n",
       "CALLS_CARE_CNTS_L6M            50\n",
       "AUTO_TOPUP                     50\n",
       "dtype: int64"
      ]
     },
     "execution_count": 163,
     "metadata": {},
     "output_type": "execute_result"
    }
   ],
   "source": [
    "# looking at nan values accross dataset\n",
    "\n",
    "data.isna().sum().loc[lambda x : x>0]"
   ]
  },
  {
   "cell_type": "code",
   "execution_count": 164,
   "metadata": {},
   "outputs": [
    {
     "name": "stdout",
     "output_type": "stream",
     "text": [
      "Number of categorical variables:6\n",
      "The categorical variables are: ['VOICE_OFFNET_DUR_L3M', 'SMS_OFFNET_CNT_L3M', 'LOYALTY_FLAG', 'SEGMENT', 'AUTO_TOPUP', 'UPGRADE_FLAG']\n",
      "<bound method IndexOpsMixin.value_counts of 0                                              283\n",
      "1                                               34\n",
      "2                                            2,477\n",
      "3                                            1,702\n",
      "4                                              106\n",
      "                           ...                    \n",
      "10345                                          253\n",
      "10346                                            0\n",
      "10347                                          249\n",
      "10348                                        2,361\n",
      "10349                                           36\n",
      "Name: VOICE_OFFNET_DUR_L3M, Length: 10350, dtype: object>\n",
      "<bound method IndexOpsMixin.value_counts of 0                                                2\n",
      "1                                               13\n",
      "2                                               36\n",
      "3                                               25\n",
      "4                                               25\n",
      "                           ...                    \n",
      "10345                                            6\n",
      "10346                                            0\n",
      "10347                                            0\n",
      "10348                                           34\n",
      "10349                                          749\n",
      "Name: SMS_OFFNET_CNT_L3M, Length: 10350, dtype: object>\n",
      "<bound method IndexOpsMixin.value_counts of 0         No\n",
      "1        Yes\n",
      "2         No\n",
      "3         No\n",
      "4         No\n",
      "        ... \n",
      "10345    Yes\n",
      "10346    Yes\n",
      "10347    Yes\n",
      "10348     No\n",
      "10349     No\n",
      "Name: LOYALTY_FLAG, Length: 10350, dtype: object>\n",
      "<bound method IndexOpsMixin.value_counts of 0        Segment3\n",
      "1        Segment4\n",
      "2        Segment2\n",
      "3        Segment4\n",
      "4        Segment3\n",
      "           ...   \n",
      "10345    Segment3\n",
      "10346    Segment3\n",
      "10347    Segment4\n",
      "10348    Segment3\n",
      "10349    Segment3\n",
      "Name: SEGMENT, Length: 10350, dtype: object>\n",
      "<bound method IndexOpsMixin.value_counts of 0        N\n",
      "1        N\n",
      "2        N\n",
      "3        N\n",
      "4        N\n",
      "        ..\n",
      "10345    N\n",
      "10346    N\n",
      "10347    N\n",
      "10348    N\n",
      "10349    N\n",
      "Name: AUTO_TOPUP, Length: 10350, dtype: object>\n",
      "<bound method IndexOpsMixin.value_counts of 0        NO\n",
      "1        NO\n",
      "2        NO\n",
      "3        NO\n",
      "4        NO\n",
      "         ..\n",
      "10345    NO\n",
      "10346    NO\n",
      "10347    NO\n",
      "10348    NO\n",
      "10349    NO\n",
      "Name: UPGRADE_FLAG, Length: 10350, dtype: object>\n"
     ]
    }
   ],
   "source": [
    "# finding frequencies in categorical variables\n",
    "categorical = [var for var in data.columns if data[var].dtype=='O']\n",
    "\n",
    "print(\"Number of categorical variables:{}\".format(len(categorical)))\n",
    "print(\"The categorical variables are:\",categorical)\n",
    "\n",
    "for i in categorical:\n",
    "    print(data[i].value_counts)\n",
    "#     print(Counter(data[i]))"
   ]
  },
  {
   "cell_type": "code",
   "execution_count": 165,
   "metadata": {},
   "outputs": [
    {
     "name": "stdout",
     "output_type": "stream",
     "text": [
      "Number of duplicate records are:0\n"
     ]
    }
   ],
   "source": [
    "# checking for duplicate records\n",
    "\n",
    "print(\"Number of duplicate records are:{}\".format(data.duplicated().sum()))"
   ]
  },
  {
   "cell_type": "code",
   "execution_count": 166,
   "metadata": {},
   "outputs": [
    {
     "data": {
      "text/html": [
       "<div>\n",
       "<style scoped>\n",
       "    .dataframe tbody tr th:only-of-type {\n",
       "        vertical-align: middle;\n",
       "    }\n",
       "\n",
       "    .dataframe tbody tr th {\n",
       "        vertical-align: top;\n",
       "    }\n",
       "\n",
       "    .dataframe thead th {\n",
       "        text-align: right;\n",
       "    }\n",
       "</style>\n",
       "<table border=\"1\" class=\"dataframe\">\n",
       "  <thead>\n",
       "    <tr style=\"text-align: right;\">\n",
       "      <th></th>\n",
       "      <th>count</th>\n",
       "      <th>mean</th>\n",
       "      <th>std</th>\n",
       "      <th>min</th>\n",
       "      <th>25%</th>\n",
       "      <th>50%</th>\n",
       "      <th>75%</th>\n",
       "      <th>max</th>\n",
       "    </tr>\n",
       "  </thead>\n",
       "  <tbody>\n",
       "    <tr>\n",
       "      <th>SUBSCRIPTION_KEY</th>\n",
       "      <td>10350.0</td>\n",
       "      <td>238842.335362</td>\n",
       "      <td>137379.999580</td>\n",
       "      <td>4.0000</td>\n",
       "      <td>120194.2500</td>\n",
       "      <td>238182.0000</td>\n",
       "      <td>357392.2500</td>\n",
       "      <td>477531.0000</td>\n",
       "    </tr>\n",
       "    <tr>\n",
       "      <th>AVERAGE_SPEND</th>\n",
       "      <td>10300.0</td>\n",
       "      <td>10.210563</td>\n",
       "      <td>5.477842</td>\n",
       "      <td>1.3500</td>\n",
       "      <td>5.4200</td>\n",
       "      <td>10.8400</td>\n",
       "      <td>16.2600</td>\n",
       "      <td>46.0700</td>\n",
       "    </tr>\n",
       "    <tr>\n",
       "      <th>VOICE_OFFNET_CNT_L3M</th>\n",
       "      <td>10350.0</td>\n",
       "      <td>14.447729</td>\n",
       "      <td>21.641523</td>\n",
       "      <td>0.0000</td>\n",
       "      <td>0.0000</td>\n",
       "      <td>5.0000</td>\n",
       "      <td>19.0000</td>\n",
       "      <td>204.0000</td>\n",
       "    </tr>\n",
       "    <tr>\n",
       "      <th>VOICE_OUTBOUND_ROAM_CNT_L3M</th>\n",
       "      <td>10300.0</td>\n",
       "      <td>1.683107</td>\n",
       "      <td>7.276299</td>\n",
       "      <td>0.0000</td>\n",
       "      <td>0.0000</td>\n",
       "      <td>0.0000</td>\n",
       "      <td>0.0000</td>\n",
       "      <td>380.0000</td>\n",
       "    </tr>\n",
       "    <tr>\n",
       "      <th>SMS_OUTBOUND_ROAM_CNT_L3M</th>\n",
       "      <td>10300.0</td>\n",
       "      <td>2.631942</td>\n",
       "      <td>16.140975</td>\n",
       "      <td>0.0000</td>\n",
       "      <td>0.0000</td>\n",
       "      <td>0.0000</td>\n",
       "      <td>0.0000</td>\n",
       "      <td>681.0000</td>\n",
       "    </tr>\n",
       "    <tr>\n",
       "      <th>DATA_CNT_L3M</th>\n",
       "      <td>10300.0</td>\n",
       "      <td>0.000000</td>\n",
       "      <td>0.000000</td>\n",
       "      <td>0.0000</td>\n",
       "      <td>0.0000</td>\n",
       "      <td>0.0000</td>\n",
       "      <td>0.0000</td>\n",
       "      <td>0.0000</td>\n",
       "    </tr>\n",
       "    <tr>\n",
       "      <th>DATA_VOLUME_L3M</th>\n",
       "      <td>10300.0</td>\n",
       "      <td>0.000000</td>\n",
       "      <td>0.000000</td>\n",
       "      <td>0.0000</td>\n",
       "      <td>0.0000</td>\n",
       "      <td>0.0000</td>\n",
       "      <td>0.0000</td>\n",
       "      <td>0.0000</td>\n",
       "    </tr>\n",
       "    <tr>\n",
       "      <th>NUM_OF_UPGRADES</th>\n",
       "      <td>10300.0</td>\n",
       "      <td>0.071942</td>\n",
       "      <td>0.290927</td>\n",
       "      <td>0.0000</td>\n",
       "      <td>0.0000</td>\n",
       "      <td>0.0000</td>\n",
       "      <td>0.0000</td>\n",
       "      <td>3.0000</td>\n",
       "    </tr>\n",
       "    <tr>\n",
       "      <th>TOPUP_VALUE_L3M</th>\n",
       "      <td>10300.0</td>\n",
       "      <td>30.609399</td>\n",
       "      <td>16.508226</td>\n",
       "      <td>4.0569</td>\n",
       "      <td>16.2602</td>\n",
       "      <td>32.5204</td>\n",
       "      <td>48.7806</td>\n",
       "      <td>138.2117</td>\n",
       "    </tr>\n",
       "    <tr>\n",
       "      <th>TOPUP_CNT_L3M</th>\n",
       "      <td>10300.0</td>\n",
       "      <td>2.024951</td>\n",
       "      <td>1.051014</td>\n",
       "      <td>1.0000</td>\n",
       "      <td>1.0000</td>\n",
       "      <td>2.0000</td>\n",
       "      <td>3.0000</td>\n",
       "      <td>12.0000</td>\n",
       "    </tr>\n",
       "    <tr>\n",
       "      <th>CALLS_CARE_CNTS_L6M</th>\n",
       "      <td>10300.0</td>\n",
       "      <td>0.079029</td>\n",
       "      <td>0.430156</td>\n",
       "      <td>0.0000</td>\n",
       "      <td>0.0000</td>\n",
       "      <td>0.0000</td>\n",
       "      <td>0.0000</td>\n",
       "      <td>9.0000</td>\n",
       "    </tr>\n",
       "  </tbody>\n",
       "</table>\n",
       "</div>"
      ],
      "text/plain": [
       "                               count           mean            std     min  \\\n",
       "SUBSCRIPTION_KEY             10350.0  238842.335362  137379.999580  4.0000   \n",
       "AVERAGE_SPEND                10300.0      10.210563       5.477842  1.3500   \n",
       "VOICE_OFFNET_CNT_L3M         10350.0      14.447729      21.641523  0.0000   \n",
       "VOICE_OUTBOUND_ROAM_CNT_L3M  10300.0       1.683107       7.276299  0.0000   \n",
       "SMS_OUTBOUND_ROAM_CNT_L3M    10300.0       2.631942      16.140975  0.0000   \n",
       "DATA_CNT_L3M                 10300.0       0.000000       0.000000  0.0000   \n",
       "DATA_VOLUME_L3M              10300.0       0.000000       0.000000  0.0000   \n",
       "NUM_OF_UPGRADES              10300.0       0.071942       0.290927  0.0000   \n",
       "TOPUP_VALUE_L3M              10300.0      30.609399      16.508226  4.0569   \n",
       "TOPUP_CNT_L3M                10300.0       2.024951       1.051014  1.0000   \n",
       "CALLS_CARE_CNTS_L6M          10300.0       0.079029       0.430156  0.0000   \n",
       "\n",
       "                                     25%          50%          75%  \\\n",
       "SUBSCRIPTION_KEY             120194.2500  238182.0000  357392.2500   \n",
       "AVERAGE_SPEND                     5.4200      10.8400      16.2600   \n",
       "VOICE_OFFNET_CNT_L3M              0.0000       5.0000      19.0000   \n",
       "VOICE_OUTBOUND_ROAM_CNT_L3M       0.0000       0.0000       0.0000   \n",
       "SMS_OUTBOUND_ROAM_CNT_L3M         0.0000       0.0000       0.0000   \n",
       "DATA_CNT_L3M                      0.0000       0.0000       0.0000   \n",
       "DATA_VOLUME_L3M                   0.0000       0.0000       0.0000   \n",
       "NUM_OF_UPGRADES                   0.0000       0.0000       0.0000   \n",
       "TOPUP_VALUE_L3M                  16.2602      32.5204      48.7806   \n",
       "TOPUP_CNT_L3M                     1.0000       2.0000       3.0000   \n",
       "CALLS_CARE_CNTS_L6M               0.0000       0.0000       0.0000   \n",
       "\n",
       "                                     max  \n",
       "SUBSCRIPTION_KEY             477531.0000  \n",
       "AVERAGE_SPEND                    46.0700  \n",
       "VOICE_OFFNET_CNT_L3M            204.0000  \n",
       "VOICE_OUTBOUND_ROAM_CNT_L3M     380.0000  \n",
       "SMS_OUTBOUND_ROAM_CNT_L3M       681.0000  \n",
       "DATA_CNT_L3M                      0.0000  \n",
       "DATA_VOLUME_L3M                   0.0000  \n",
       "NUM_OF_UPGRADES                   3.0000  \n",
       "TOPUP_VALUE_L3M                 138.2117  \n",
       "TOPUP_CNT_L3M                    12.0000  \n",
       "CALLS_CARE_CNTS_L6M               9.0000  "
      ]
     },
     "execution_count": 166,
     "metadata": {},
     "output_type": "execute_result"
    }
   ],
   "source": [
    "data.describe().T"
   ]
  },
  {
   "cell_type": "code",
   "execution_count": 167,
   "metadata": {},
   "outputs": [],
   "source": [
    "# Dropping redundant and unnecessary columns\n",
    "\n",
    "data.drop('SUBSCRIPTION_KEY', axis=1, inplace=True)"
   ]
  },
  {
   "cell_type": "markdown",
   "metadata": {},
   "source": [
    "#### Initial Observations:\n",
    "\n",
    "- There are a total of 10350 records in the dataset with 10000 records set to 'NO' upgrade and the remaining 350 records set to 'YES'.\n",
    "- At first glance, it is a binary classification problem with imbalance issue clearly visible.\n",
    "- There are a total of 20 features and 1 target variable in the dataset.\n",
    "- There are no duplicate records.\n",
    "- There are no negative values as shown from the min values.\n",
    "- The columns have different ranges and magnitudes which suggests that scaling could be required if distance based algorithms are used.\n",
    "- There is definite skewness in few of the variables since there is a jump from min 0 compared to max.\n",
    "- There are missing values visible but they range across different rows and columns. The missing value count of all variables is 50 which is peculiar."
   ]
  },
  {
   "cell_type": "markdown",
   "metadata": {},
   "source": [
    "## Missing value treatment"
   ]
  },
  {
   "cell_type": "code",
   "execution_count": 168,
   "metadata": {},
   "outputs": [
    {
     "data": {
      "image/png": "[encoded data removed]",
      "text/plain": [
       "<Figure size 432x288 with 2 Axes>"
      ]
     },
     "metadata": {
      "needs_background": "light"
     },
     "output_type": "display_data"
    }
   ],
   "source": [
    "# Visualizing missing values across data\n",
    "\n",
    "sns.heatmap(data.isnull(), cmap='viridis');"
   ]
  },
  {
   "cell_type": "markdown",
   "metadata": {},
   "source": [
    "### Handling numerical columns with missing data"
   ]
  },
  {
   "cell_type": "code",
   "execution_count": 169,
   "metadata": {},
   "outputs": [
    {
     "data": {
      "text/plain": [
       "AVERAGE_SPEND                  50\n",
       "VOICE_OUTBOUND_ROAM_CNT_L3M    50\n",
       "SMS_OUTBOUND_ROAM_CNT_L3M      50\n",
       "DATA_CNT_L3M                   50\n",
       "DATA_VOLUME_L3M                50\n",
       "NUM_OF_UPGRADES                50\n",
       "TOPUP_VALUE_L3M                50\n",
       "TOPUP_CNT_L3M                  50\n",
       "CALLS_CARE_CNTS_L6M            50\n",
       "dtype: int64"
      ]
     },
     "execution_count": 169,
     "metadata": {},
     "output_type": "execute_result"
    }
   ],
   "source": [
    "num_cols = [var for var in data.columns if data[var].dtype=='int64' or data[var].dtype=='float64']\n",
    "data[num_cols].isna().sum().loc[lambda x : x>0]"
   ]
  },
  {
   "cell_type": "code",
   "execution_count": 170,
   "metadata": {},
   "outputs": [],
   "source": [
    "# Using mean imputation to impute float variables\n",
    "\n",
    "num_nul_cols = ['AVERAGE_SPEND', 'VOICE_OUTBOUND_ROAM_CNT_L3M', 'SMS_OUTBOUND_ROAM_CNT_L3M', 'DATA_CNT_L3M', \n",
    "                'DATA_VOLUME_L3M', 'NUM_OF_UPGRADES', 'TOPUP_VALUE_L3M', 'TOPUP_CNT_L3M', 'CALLS_CARE_CNTS_L6M']\n",
    "\n",
    "data[num_nul_cols] = data[num_nul_cols].fillna(data[num_nul_cols].mean())"
   ]
  },
  {
   "cell_type": "code",
   "execution_count": 171,
   "metadata": {},
   "outputs": [
    {
     "data": {
      "text/plain": [
       "LOYALTY_FLAG    50\n",
       "SEGMENT         50\n",
       "AUTO_TOPUP      50\n",
       "dtype: int64"
      ]
     },
     "execution_count": 171,
     "metadata": {},
     "output_type": "execute_result"
    }
   ],
   "source": [
    "data.isna().sum().loc[lambda x: x>0]"
   ]
  },
  {
   "cell_type": "markdown",
   "metadata": {},
   "source": [
    "### Handling categorical columns with missing data"
   ]
  },
  {
   "cell_type": "code",
   "execution_count": 172,
   "metadata": {},
   "outputs": [
    {
     "name": "stdout",
     "output_type": "stream",
     "text": [
      "Counter({'No': 6952, 'Yes': 3348, nan: 50})\n",
      "Counter({'Segment3': 4759, 'Segment1': 2242, 'Segment2': 1678, 'Segment4': 1597, nan: 50, 'UNKNOWN': 24})\n",
      "Counter({'N': 10139, 'Y': 161, nan: 50})\n"
     ]
    }
   ],
   "source": [
    "cat_cols = ['LOYALTY_FLAG', 'SEGMENT', 'AUTO_TOPUP']\n",
    "\n",
    "for i in cat_cols:\n",
    "    print(Counter(data[i]))"
   ]
  },
  {
   "cell_type": "code",
   "execution_count": 173,
   "metadata": {},
   "outputs": [],
   "source": [
    "# Imputing na with 'UNKNOWN' since this already exists and retaining it captures the importance of missingness\n",
    "data['SEGMENT'] = data['SEGMENT'].fillna(\"UNKNOWN\")"
   ]
  },
  {
   "cell_type": "code",
   "execution_count": 174,
   "metadata": {},
   "outputs": [],
   "source": [
    "# Creating function to impute with most frequency category\n",
    "def nan_freq_imputer(df,ColName):\n",
    "     most_freq_cat=df[ColName].mode()[0]\n",
    "    # replace nan values with most occured category\n",
    "     df[ColName].fillna(most_freq_cat,inplace=True)"
   ]
  },
  {
   "cell_type": "code",
   "execution_count": 175,
   "metadata": {},
   "outputs": [],
   "source": [
    "for col in ['LOYALTY_FLAG', 'AUTO_TOPUP']:\n",
    "    nan_freq_imputer(data,col)"
   ]
  },
  {
   "cell_type": "code",
   "execution_count": 176,
   "metadata": {},
   "outputs": [
    {
     "name": "stdout",
     "output_type": "stream",
     "text": [
      "Counter({'No': 7002, 'Yes': 3348})\n",
      "Counter({'Segment3': 4759, 'Segment1': 2242, 'Segment2': 1678, 'Segment4': 1597, 'UNKNOWN': 74})\n",
      "Counter({'N': 10189, 'Y': 161})\n"
     ]
    }
   ],
   "source": [
    "cat_cols = ['LOYALTY_FLAG', 'SEGMENT', 'AUTO_TOPUP']\n",
    "\n",
    "for i in cat_cols:\n",
    "    print(Counter(data[i]))"
   ]
  },
  {
   "cell_type": "markdown",
   "metadata": {},
   "source": [
    "#### Actions Taken:\n",
    "\n",
    "- Missing value treatment is done using the below ways:\n",
    "    - Numerical values: Mean imputation is performed to impute the missing values.\n",
    "    - Categorical values: Frequency imputation is performed for 2 of them and since only feature already has the 'UNKNOWN' categorical these NA values are imputed with 'UNKNOWN'."
   ]
  },
  {
   "cell_type": "code",
   "execution_count": null,
   "metadata": {},
   "outputs": [],
   "source": []
  }
 ],
 "metadata": {
  "kernelspec": {
   "display_name": "Python 3",
   "language": "python",
   "name": "python3"
  },
  "language_info": {
   "codemirror_mode": {
    "name": "ipython",
    "version": 3
   },
   "file_extension": ".py",
   "mimetype": "text/x-python",
   "name": "python",
   "nbconvert_exporter": "python",
   "pygments_lexer": "ipython3",
   "version": "3.7.4"
  }
 },
 "nbformat": 4,
 "nbformat_minor": 2
}
