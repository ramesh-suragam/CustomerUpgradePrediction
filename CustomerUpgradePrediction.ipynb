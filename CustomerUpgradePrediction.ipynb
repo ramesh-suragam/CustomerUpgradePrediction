{
 "cells": [
  {
   "cell_type": "markdown",
   "metadata": {},
   "source": [
    "# Problem Statement\n",
    "\n",
    "#### Upgrade propensity model\n",
    "\n",
    "In this task, we ask you to do an analysis to predict what customers will be most likely to upgrade\n",
    "We provide a small sample of data you build the propensity model with, please note that this is dummy data but similar in construct to data you may be working with.\n",
    "You will use this dataset to build your model.\n",
    "\n",
    "#### Task list\n",
    "- Data exploration, data cleaning and feature engineering. Remember to comment each step properly.\n",
    "- Explanatory analysis. Include key insights in the presentation\n",
    "- Modelling/Training\n",
    "- Prepare a presentation for both a data science and a business audience and present the analysis to both, this will be the first part of the interview. Use visualisations and tell compelling stories. Tell us what is the message(s) for the business? What actionable insights you can provide to the business?\n",
    "- Don’t limit yourself to the requested tasks. \n",
    "\n",
    "#### Required Output\n",
    "- Fully commented code \n",
    "- Modelling dataset (CSV file)\n",
    "- Visualisation tool files (if anything)\n",
    "- Slides of presentations, including but not limited to:\n",
    "    - Problem statement, Assumptions, Hypotheses\n",
    "    - Exploratory analysis\n",
    "    - Modelling approach\n",
    "    - Results\n",
    "        - Model performance measures\n",
    "        - Business audience performance measures\n",
    "        - Insights\n",
    "    - Recommendations"
   ]
  },
  {
   "cell_type": "markdown",
   "metadata": {},
   "source": [
    "# Data Exploration and Preparation"
   ]
  },
  {
   "cell_type": "markdown",
   "metadata": {},
   "source": [
    "## Loading the data\n",
    "\n",
    "- This section includes loading of the data, understanding basic description of the data; followed by cleanup & imputations if required."
   ]
  },
  {
   "cell_type": "code",
   "execution_count": 107,
   "metadata": {},
   "outputs": [],
   "source": [
    "# Importing the required packages\n",
    "\n",
    "import random\n",
    "import numpy as np\n",
    "import pandas as pd\n",
    "import matplotlib.pyplot as plt\n",
    "import seaborn as sns\n",
    "from collections import Counter\n",
    "\n",
    "%matplotlib inline\n",
    "\n",
    "from sklearn.model_selection import train_test_split\n",
    "import category_encoders as ce\n",
    "\n",
    "\n",
    "# from statsmodels.stats.outliers_influence import variance_inflation_factor\n",
    "from sklearn.model_selection import GridSearchCV\n",
    "from sklearn.linear_model import LogisticRegression\n",
    "from sklearn.ensemble import RandomForestClassifier\n",
    "from imblearn.ensemble import BalancedRandomForestClassifier, EasyEnsembleClassifier\n",
    "from xgboost import XGBClassifier\n",
    "from sklearn import metrics\n",
    "from sklearn.metrics import classification_report,accuracy_score,precision_score,recall_score,confusion_matrix,roc_auc_score,f1_score, precision_recall_curve,auc\n",
    "from sklearn.preprocessing import MinMaxScaler, StandardScaler\n",
    "from imblearn.over_sampling import SMOTE\n",
    "from imblearn.under_sampling import RandomUnderSampler\n",
    "from imblearn.over_sampling import RandomOverSampler\n",
    "from imblearn.pipeline import Pipeline\n",
    "from sklearn.model_selection import cross_val_score, cross_validate, KFold, StratifiedKFold, RepeatedStratifiedKFold\n",
    "from IPython.display import display\n",
    "from sklearn.compose import ColumnTransformer\n",
    "\n",
    "import warnings\n",
    "warnings.filterwarnings('ignore')\n",
    "\n",
    "# import pickle"
   ]
  },
  {
   "cell_type": "code",
   "execution_count": 108,
   "metadata": {},
   "outputs": [
    {
     "name": "stdout",
     "output_type": "stream",
     "text": [
      "Shape of data is: (10350, 18)\n",
      "Shape of upgrades dataset is: (10350, 2)\n"
     ]
    }
   ],
   "source": [
    "# Loading at the data and looking at the shape\n",
    "\n",
    "data = pd.read_excel(r'data/DATA.xlsx')\n",
    "print('Shape of data is:', data.shape)\n",
    "upgrades = pd.read_excel(r'data/UPGRADES.xlsx')\n",
    "print('Shape of upgrades dataset is:', upgrades.shape)"
   ]
  },
  {
   "cell_type": "code",
   "execution_count": 109,
   "metadata": {},
   "outputs": [
    {
     "data": {
      "text/html": [
       "<div>\n",
       "<style scoped>\n",
       "    .dataframe tbody tr th:only-of-type {\n",
       "        vertical-align: middle;\n",
       "    }\n",
       "\n",
       "    .dataframe tbody tr th {\n",
       "        vertical-align: top;\n",
       "    }\n",
       "\n",
       "    .dataframe thead th {\n",
       "        text-align: right;\n",
       "    }\n",
       "</style>\n",
       "<table border=\"1\" class=\"dataframe\">\n",
       "  <thead>\n",
       "    <tr style=\"text-align: right;\">\n",
       "      <th></th>\n",
       "      <th>SUBSCRIPTION_KEY</th>\n",
       "      <th>AVERAGE_SPEND</th>\n",
       "      <th>VOICE_OFFNET_CNT_L3M</th>\n",
       "      <th>VOICE_OFFNET_DUR_L3M</th>\n",
       "      <th>VOICE_OUTBOUND_ROAM_CNT_L3M</th>\n",
       "      <th>SMS_OFFNET_CNT_L3M</th>\n",
       "      <th>SMS_OUTBOUND_ROAM_CNT_L3M</th>\n",
       "      <th>DATA_CNT_L3M</th>\n",
       "      <th>DATA_VOLUME_L3M</th>\n",
       "      <th>NUM_OF_UPGRADES</th>\n",
       "      <th>HANDSET_FIRST_DATE</th>\n",
       "      <th>HANDSET_LATEST_DATE</th>\n",
       "      <th>LOYALTY_FLAG</th>\n",
       "      <th>SEGMENT</th>\n",
       "      <th>TOPUP_VALUE_L3M</th>\n",
       "      <th>TOPUP_CNT_L3M</th>\n",
       "      <th>CALLS_CARE_CNTS_L6M</th>\n",
       "      <th>AUTO_TOPUP</th>\n",
       "    </tr>\n",
       "  </thead>\n",
       "  <tbody>\n",
       "    <tr>\n",
       "      <th>0</th>\n",
       "      <td>462713</td>\n",
       "      <td>2.71</td>\n",
       "      <td>6</td>\n",
       "      <td>283</td>\n",
       "      <td>0.0</td>\n",
       "      <td>2</td>\n",
       "      <td>0.0</td>\n",
       "      <td>0.0</td>\n",
       "      <td>0.0</td>\n",
       "      <td>2.0</td>\n",
       "      <td>2015-09-26</td>\n",
       "      <td>2016-01-07</td>\n",
       "      <td>No</td>\n",
       "      <td>Segment3</td>\n",
       "      <td>8.1301</td>\n",
       "      <td>1.0</td>\n",
       "      <td>0.0</td>\n",
       "      <td>N</td>\n",
       "    </tr>\n",
       "    <tr>\n",
       "      <th>1</th>\n",
       "      <td>272924</td>\n",
       "      <td>16.26</td>\n",
       "      <td>3</td>\n",
       "      <td>34</td>\n",
       "      <td>1.0</td>\n",
       "      <td>13</td>\n",
       "      <td>9.0</td>\n",
       "      <td>0.0</td>\n",
       "      <td>0.0</td>\n",
       "      <td>0.0</td>\n",
       "      <td>2015-07-24</td>\n",
       "      <td>2016-01-07</td>\n",
       "      <td>Yes</td>\n",
       "      <td>Segment4</td>\n",
       "      <td>48.7806</td>\n",
       "      <td>3.0</td>\n",
       "      <td>1.0</td>\n",
       "      <td>N</td>\n",
       "    </tr>\n",
       "    <tr>\n",
       "      <th>2</th>\n",
       "      <td>319500</td>\n",
       "      <td>5.42</td>\n",
       "      <td>15</td>\n",
       "      <td>2,477</td>\n",
       "      <td>0.0</td>\n",
       "      <td>36</td>\n",
       "      <td>0.0</td>\n",
       "      <td>0.0</td>\n",
       "      <td>0.0</td>\n",
       "      <td>0.0</td>\n",
       "      <td>2012-09-04</td>\n",
       "      <td>2016-01-07</td>\n",
       "      <td>No</td>\n",
       "      <td>Segment2</td>\n",
       "      <td>16.2602</td>\n",
       "      <td>1.0</td>\n",
       "      <td>0.0</td>\n",
       "      <td>N</td>\n",
       "    </tr>\n",
       "    <tr>\n",
       "      <th>3</th>\n",
       "      <td>106425</td>\n",
       "      <td>16.26</td>\n",
       "      <td>8</td>\n",
       "      <td>1,702</td>\n",
       "      <td>0.0</td>\n",
       "      <td>25</td>\n",
       "      <td>0.0</td>\n",
       "      <td>0.0</td>\n",
       "      <td>0.0</td>\n",
       "      <td>0.0</td>\n",
       "      <td>2014-10-10</td>\n",
       "      <td>2016-01-07</td>\n",
       "      <td>No</td>\n",
       "      <td>Segment4</td>\n",
       "      <td>48.7806</td>\n",
       "      <td>3.0</td>\n",
       "      <td>0.0</td>\n",
       "      <td>N</td>\n",
       "    </tr>\n",
       "    <tr>\n",
       "      <th>4</th>\n",
       "      <td>90315</td>\n",
       "      <td>2.71</td>\n",
       "      <td>2</td>\n",
       "      <td>106</td>\n",
       "      <td>0.0</td>\n",
       "      <td>25</td>\n",
       "      <td>0.0</td>\n",
       "      <td>0.0</td>\n",
       "      <td>0.0</td>\n",
       "      <td>0.0</td>\n",
       "      <td>2015-05-17</td>\n",
       "      <td>2016-01-07</td>\n",
       "      <td>No</td>\n",
       "      <td>Segment3</td>\n",
       "      <td>8.1301</td>\n",
       "      <td>1.0</td>\n",
       "      <td>0.0</td>\n",
       "      <td>N</td>\n",
       "    </tr>\n",
       "  </tbody>\n",
       "</table>\n",
       "</div>"
      ],
      "text/plain": [
       "   SUBSCRIPTION_KEY  AVERAGE_SPEND  VOICE_OFFNET_CNT_L3M  \\\n",
       "0            462713           2.71                     6   \n",
       "1            272924          16.26                     3   \n",
       "2            319500           5.42                    15   \n",
       "3            106425          16.26                     8   \n",
       "4             90315           2.71                     2   \n",
       "\n",
       "                        VOICE_OFFNET_DUR_L3M  VOICE_OUTBOUND_ROAM_CNT_L3M  \\\n",
       "0                                        283                          0.0   \n",
       "1                                         34                          1.0   \n",
       "2                                      2,477                          0.0   \n",
       "3                                      1,702                          0.0   \n",
       "4                                        106                          0.0   \n",
       "\n",
       "                          SMS_OFFNET_CNT_L3M  SMS_OUTBOUND_ROAM_CNT_L3M  \\\n",
       "0                                          2                        0.0   \n",
       "1                                         13                        9.0   \n",
       "2                                         36                        0.0   \n",
       "3                                         25                        0.0   \n",
       "4                                         25                        0.0   \n",
       "\n",
       "   DATA_CNT_L3M  DATA_VOLUME_L3M  NUM_OF_UPGRADES HANDSET_FIRST_DATE  \\\n",
       "0           0.0              0.0              2.0         2015-09-26   \n",
       "1           0.0              0.0              0.0         2015-07-24   \n",
       "2           0.0              0.0              0.0         2012-09-04   \n",
       "3           0.0              0.0              0.0         2014-10-10   \n",
       "4           0.0              0.0              0.0         2015-05-17   \n",
       "\n",
       "  HANDSET_LATEST_DATE LOYALTY_FLAG   SEGMENT  TOPUP_VALUE_L3M  TOPUP_CNT_L3M  \\\n",
       "0          2016-01-07           No  Segment3           8.1301            1.0   \n",
       "1          2016-01-07          Yes  Segment4          48.7806            3.0   \n",
       "2          2016-01-07           No  Segment2          16.2602            1.0   \n",
       "3          2016-01-07           No  Segment4          48.7806            3.0   \n",
       "4          2016-01-07           No  Segment3           8.1301            1.0   \n",
       "\n",
       "   CALLS_CARE_CNTS_L6M AUTO_TOPUP  \n",
       "0                  0.0          N  \n",
       "1                  1.0          N  \n",
       "2                  0.0          N  \n",
       "3                  0.0          N  \n",
       "4                  0.0          N  "
      ]
     },
     "execution_count": 109,
     "metadata": {},
     "output_type": "execute_result"
    }
   ],
   "source": [
    "data.head()"
   ]
  },
  {
   "cell_type": "code",
   "execution_count": 110,
   "metadata": {},
   "outputs": [
    {
     "data": {
      "text/html": [
       "<div>\n",
       "<style scoped>\n",
       "    .dataframe tbody tr th:only-of-type {\n",
       "        vertical-align: middle;\n",
       "    }\n",
       "\n",
       "    .dataframe tbody tr th {\n",
       "        vertical-align: top;\n",
       "    }\n",
       "\n",
       "    .dataframe thead th {\n",
       "        text-align: right;\n",
       "    }\n",
       "</style>\n",
       "<table border=\"1\" class=\"dataframe\">\n",
       "  <thead>\n",
       "    <tr style=\"text-align: right;\">\n",
       "      <th></th>\n",
       "      <th>SUBSCRIPTION_KEY</th>\n",
       "      <th>UPGRADE_FLAG</th>\n",
       "    </tr>\n",
       "  </thead>\n",
       "  <tbody>\n",
       "    <tr>\n",
       "      <th>0</th>\n",
       "      <td>462713</td>\n",
       "      <td>NO</td>\n",
       "    </tr>\n",
       "    <tr>\n",
       "      <th>1</th>\n",
       "      <td>272924</td>\n",
       "      <td>NO</td>\n",
       "    </tr>\n",
       "    <tr>\n",
       "      <th>2</th>\n",
       "      <td>319500</td>\n",
       "      <td>NO</td>\n",
       "    </tr>\n",
       "    <tr>\n",
       "      <th>3</th>\n",
       "      <td>106425</td>\n",
       "      <td>NO</td>\n",
       "    </tr>\n",
       "    <tr>\n",
       "      <th>4</th>\n",
       "      <td>90315</td>\n",
       "      <td>NO</td>\n",
       "    </tr>\n",
       "  </tbody>\n",
       "</table>\n",
       "</div>"
      ],
      "text/plain": [
       "   SUBSCRIPTION_KEY UPGRADE_FLAG\n",
       "0            462713           NO\n",
       "1            272924           NO\n",
       "2            319500           NO\n",
       "3            106425           NO\n",
       "4             90315           NO"
      ]
     },
     "execution_count": 110,
     "metadata": {},
     "output_type": "execute_result"
    }
   ],
   "source": [
    "upgrades.head()"
   ]
  },
  {
   "cell_type": "code",
   "execution_count": 111,
   "metadata": {},
   "outputs": [],
   "source": [
    "# Merging upgrades info with data\n",
    "data = pd.merge(data, upgrades, on='SUBSCRIPTION_KEY')"
   ]
  },
  {
   "cell_type": "markdown",
   "metadata": {},
   "source": [
    "## Variable Identification"
   ]
  },
  {
   "cell_type": "code",
   "execution_count": 112,
   "metadata": {},
   "outputs": [
    {
     "data": {
      "text/plain": [
       "SUBSCRIPTION_KEY                        int64\n",
       "AVERAGE_SPEND                         float64\n",
       "VOICE_OFFNET_CNT_L3M                    int64\n",
       "VOICE_OFFNET_DUR_L3M                   object\n",
       "VOICE_OUTBOUND_ROAM_CNT_L3M           float64\n",
       "SMS_OFFNET_CNT_L3M                     object\n",
       "SMS_OUTBOUND_ROAM_CNT_L3M             float64\n",
       "DATA_CNT_L3M                          float64\n",
       "DATA_VOLUME_L3M                       float64\n",
       "NUM_OF_UPGRADES                       float64\n",
       "HANDSET_FIRST_DATE             datetime64[ns]\n",
       "HANDSET_LATEST_DATE            datetime64[ns]\n",
       "LOYALTY_FLAG                           object\n",
       "SEGMENT                                object\n",
       "TOPUP_VALUE_L3M                       float64\n",
       "TOPUP_CNT_L3M                         float64\n",
       "CALLS_CARE_CNTS_L6M                   float64\n",
       "AUTO_TOPUP                             object\n",
       "UPGRADE_FLAG                           object\n",
       "dtype: object"
      ]
     },
     "execution_count": 112,
     "metadata": {},
     "output_type": "execute_result"
    }
   ],
   "source": [
    "# Looking at individual features\n",
    "data.dtypes"
   ]
  },
  {
   "cell_type": "code",
   "execution_count": 113,
   "metadata": {},
   "outputs": [
    {
     "name": "stdout",
     "output_type": "stream",
     "text": [
      "Counter({'NO': 10000, 'YES': 350})\n"
     ]
    }
   ],
   "source": [
    "# Checking the count of unique target values\n",
    "print(Counter(data['UPGRADE_FLAG']))"
   ]
  },
  {
   "cell_type": "code",
   "execution_count": 114,
   "metadata": {},
   "outputs": [
    {
     "data": {
      "text/plain": [
       "SUBSCRIPTION_KEY               10350\n",
       "AVERAGE_SPEND                     58\n",
       "VOICE_OFFNET_CNT_L3M             143\n",
       "VOICE_OFFNET_DUR_L3M            2954\n",
       "VOICE_OUTBOUND_ROAM_CNT_L3M       73\n",
       "SMS_OFFNET_CNT_L3M               626\n",
       "SMS_OUTBOUND_ROAM_CNT_L3M        114\n",
       "DATA_CNT_L3M                       1\n",
       "DATA_VOLUME_L3M                    1\n",
       "NUM_OF_UPGRADES                    4\n",
       "HANDSET_FIRST_DATE              1402\n",
       "HANDSET_LATEST_DATE                1\n",
       "LOYALTY_FLAG                       2\n",
       "SEGMENT                            5\n",
       "TOPUP_VALUE_L3M                  110\n",
       "TOPUP_CNT_L3M                     12\n",
       "CALLS_CARE_CNTS_L6M                9\n",
       "AUTO_TOPUP                         2\n",
       "UPGRADE_FLAG                       2\n",
       "dtype: int64"
      ]
     },
     "execution_count": 114,
     "metadata": {},
     "output_type": "execute_result"
    }
   ],
   "source": [
    "# Checking for unique values\n",
    "\n",
    "data.nunique()"
   ]
  },
  {
   "cell_type": "code",
   "execution_count": 115,
   "metadata": {},
   "outputs": [
    {
     "data": {
      "text/plain": [
       "AVERAGE_SPEND                  50\n",
       "VOICE_OUTBOUND_ROAM_CNT_L3M    50\n",
       "SMS_OUTBOUND_ROAM_CNT_L3M      50\n",
       "DATA_CNT_L3M                   50\n",
       "DATA_VOLUME_L3M                50\n",
       "NUM_OF_UPGRADES                50\n",
       "LOYALTY_FLAG                   50\n",
       "SEGMENT                        50\n",
       "TOPUP_VALUE_L3M                50\n",
       "TOPUP_CNT_L3M                  50\n",
       "CALLS_CARE_CNTS_L6M            50\n",
       "AUTO_TOPUP                     50\n",
       "dtype: int64"
      ]
     },
     "execution_count": 115,
     "metadata": {},
     "output_type": "execute_result"
    }
   ],
   "source": [
    "# looking at nan values accross dataset\n",
    "\n",
    "data.isna().sum().loc[lambda x : x>0]"
   ]
  },
  {
   "cell_type": "code",
   "execution_count": 116,
   "metadata": {},
   "outputs": [
    {
     "name": "stdout",
     "output_type": "stream",
     "text": [
      "Number of categorical variables:6\n",
      "The categorical variables are: ['VOICE_OFFNET_DUR_L3M', 'SMS_OFFNET_CNT_L3M', 'LOYALTY_FLAG', 'SEGMENT', 'AUTO_TOPUP', 'UPGRADE_FLAG']\n",
      "<bound method IndexOpsMixin.value_counts of 0                                              283\n",
      "1                                               34\n",
      "2                                            2,477\n",
      "3                                            1,702\n",
      "4                                              106\n",
      "                           ...                    \n",
      "10345                                          253\n",
      "10346                                            0\n",
      "10347                                          249\n",
      "10348                                        2,361\n",
      "10349                                           36\n",
      "Name: VOICE_OFFNET_DUR_L3M, Length: 10350, dtype: object>\n",
      "<bound method IndexOpsMixin.value_counts of 0                                                2\n",
      "1                                               13\n",
      "2                                               36\n",
      "3                                               25\n",
      "4                                               25\n",
      "                           ...                    \n",
      "10345                                            6\n",
      "10346                                            0\n",
      "10347                                            0\n",
      "10348                                           34\n",
      "10349                                          749\n",
      "Name: SMS_OFFNET_CNT_L3M, Length: 10350, dtype: object>\n",
      "<bound method IndexOpsMixin.value_counts of 0         No\n",
      "1        Yes\n",
      "2         No\n",
      "3         No\n",
      "4         No\n",
      "        ... \n",
      "10345    Yes\n",
      "10346    Yes\n",
      "10347    Yes\n",
      "10348     No\n",
      "10349     No\n",
      "Name: LOYALTY_FLAG, Length: 10350, dtype: object>\n",
      "<bound method IndexOpsMixin.value_counts of 0        Segment3\n",
      "1        Segment4\n",
      "2        Segment2\n",
      "3        Segment4\n",
      "4        Segment3\n",
      "           ...   \n",
      "10345    Segment3\n",
      "10346    Segment3\n",
      "10347    Segment4\n",
      "10348    Segment3\n",
      "10349    Segment3\n",
      "Name: SEGMENT, Length: 10350, dtype: object>\n",
      "<bound method IndexOpsMixin.value_counts of 0        N\n",
      "1        N\n",
      "2        N\n",
      "3        N\n",
      "4        N\n",
      "        ..\n",
      "10345    N\n",
      "10346    N\n",
      "10347    N\n",
      "10348    N\n",
      "10349    N\n",
      "Name: AUTO_TOPUP, Length: 10350, dtype: object>\n",
      "<bound method IndexOpsMixin.value_counts of 0        NO\n",
      "1        NO\n",
      "2        NO\n",
      "3        NO\n",
      "4        NO\n",
      "         ..\n",
      "10345    NO\n",
      "10346    NO\n",
      "10347    NO\n",
      "10348    NO\n",
      "10349    NO\n",
      "Name: UPGRADE_FLAG, Length: 10350, dtype: object>\n"
     ]
    }
   ],
   "source": [
    "# finding frequencies in categorical variables\n",
    "categorical = [var for var in data.columns if data[var].dtype=='O']\n",
    "\n",
    "print(\"Number of categorical variables:{}\".format(len(categorical)))\n",
    "print(\"The categorical variables are:\",categorical)\n",
    "\n",
    "for i in categorical:\n",
    "    print(data[i].value_counts)\n",
    "#     print(Counter(data[i]))"
   ]
  },
  {
   "cell_type": "code",
   "execution_count": 117,
   "metadata": {},
   "outputs": [
    {
     "name": "stdout",
     "output_type": "stream",
     "text": [
      "Number of duplicate records are:0\n"
     ]
    }
   ],
   "source": [
    "# checking for duplicate records\n",
    "\n",
    "print(\"Number of duplicate records are:{}\".format(data.duplicated().sum()))"
   ]
  },
  {
   "cell_type": "code",
   "execution_count": 118,
   "metadata": {},
   "outputs": [
    {
     "data": {
      "text/html": [
       "<div>\n",
       "<style scoped>\n",
       "    .dataframe tbody tr th:only-of-type {\n",
       "        vertical-align: middle;\n",
       "    }\n",
       "\n",
       "    .dataframe tbody tr th {\n",
       "        vertical-align: top;\n",
       "    }\n",
       "\n",
       "    .dataframe thead th {\n",
       "        text-align: right;\n",
       "    }\n",
       "</style>\n",
       "<table border=\"1\" class=\"dataframe\">\n",
       "  <thead>\n",
       "    <tr style=\"text-align: right;\">\n",
       "      <th></th>\n",
       "      <th>count</th>\n",
       "      <th>mean</th>\n",
       "      <th>std</th>\n",
       "      <th>min</th>\n",
       "      <th>25%</th>\n",
       "      <th>50%</th>\n",
       "      <th>75%</th>\n",
       "      <th>max</th>\n",
       "    </tr>\n",
       "  </thead>\n",
       "  <tbody>\n",
       "    <tr>\n",
       "      <th>SUBSCRIPTION_KEY</th>\n",
       "      <td>10350.0</td>\n",
       "      <td>238842.335362</td>\n",
       "      <td>137379.999580</td>\n",
       "      <td>4.0000</td>\n",
       "      <td>120194.2500</td>\n",
       "      <td>238182.0000</td>\n",
       "      <td>357392.2500</td>\n",
       "      <td>477531.0000</td>\n",
       "    </tr>\n",
       "    <tr>\n",
       "      <th>AVERAGE_SPEND</th>\n",
       "      <td>10300.0</td>\n",
       "      <td>10.210563</td>\n",
       "      <td>5.477842</td>\n",
       "      <td>1.3500</td>\n",
       "      <td>5.4200</td>\n",
       "      <td>10.8400</td>\n",
       "      <td>16.2600</td>\n",
       "      <td>46.0700</td>\n",
       "    </tr>\n",
       "    <tr>\n",
       "      <th>VOICE_OFFNET_CNT_L3M</th>\n",
       "      <td>10350.0</td>\n",
       "      <td>14.447729</td>\n",
       "      <td>21.641523</td>\n",
       "      <td>0.0000</td>\n",
       "      <td>0.0000</td>\n",
       "      <td>5.0000</td>\n",
       "      <td>19.0000</td>\n",
       "      <td>204.0000</td>\n",
       "    </tr>\n",
       "    <tr>\n",
       "      <th>VOICE_OUTBOUND_ROAM_CNT_L3M</th>\n",
       "      <td>10300.0</td>\n",
       "      <td>1.683107</td>\n",
       "      <td>7.276299</td>\n",
       "      <td>0.0000</td>\n",
       "      <td>0.0000</td>\n",
       "      <td>0.0000</td>\n",
       "      <td>0.0000</td>\n",
       "      <td>380.0000</td>\n",
       "    </tr>\n",
       "    <tr>\n",
       "      <th>SMS_OUTBOUND_ROAM_CNT_L3M</th>\n",
       "      <td>10300.0</td>\n",
       "      <td>2.631942</td>\n",
       "      <td>16.140975</td>\n",
       "      <td>0.0000</td>\n",
       "      <td>0.0000</td>\n",
       "      <td>0.0000</td>\n",
       "      <td>0.0000</td>\n",
       "      <td>681.0000</td>\n",
       "    </tr>\n",
       "    <tr>\n",
       "      <th>DATA_CNT_L3M</th>\n",
       "      <td>10300.0</td>\n",
       "      <td>0.000000</td>\n",
       "      <td>0.000000</td>\n",
       "      <td>0.0000</td>\n",
       "      <td>0.0000</td>\n",
       "      <td>0.0000</td>\n",
       "      <td>0.0000</td>\n",
       "      <td>0.0000</td>\n",
       "    </tr>\n",
       "    <tr>\n",
       "      <th>DATA_VOLUME_L3M</th>\n",
       "      <td>10300.0</td>\n",
       "      <td>0.000000</td>\n",
       "      <td>0.000000</td>\n",
       "      <td>0.0000</td>\n",
       "      <td>0.0000</td>\n",
       "      <td>0.0000</td>\n",
       "      <td>0.0000</td>\n",
       "      <td>0.0000</td>\n",
       "    </tr>\n",
       "    <tr>\n",
       "      <th>NUM_OF_UPGRADES</th>\n",
       "      <td>10300.0</td>\n",
       "      <td>0.071942</td>\n",
       "      <td>0.290927</td>\n",
       "      <td>0.0000</td>\n",
       "      <td>0.0000</td>\n",
       "      <td>0.0000</td>\n",
       "      <td>0.0000</td>\n",
       "      <td>3.0000</td>\n",
       "    </tr>\n",
       "    <tr>\n",
       "      <th>TOPUP_VALUE_L3M</th>\n",
       "      <td>10300.0</td>\n",
       "      <td>30.609399</td>\n",
       "      <td>16.508226</td>\n",
       "      <td>4.0569</td>\n",
       "      <td>16.2602</td>\n",
       "      <td>32.5204</td>\n",
       "      <td>48.7806</td>\n",
       "      <td>138.2117</td>\n",
       "    </tr>\n",
       "    <tr>\n",
       "      <th>TOPUP_CNT_L3M</th>\n",
       "      <td>10300.0</td>\n",
       "      <td>2.024951</td>\n",
       "      <td>1.051014</td>\n",
       "      <td>1.0000</td>\n",
       "      <td>1.0000</td>\n",
       "      <td>2.0000</td>\n",
       "      <td>3.0000</td>\n",
       "      <td>12.0000</td>\n",
       "    </tr>\n",
       "    <tr>\n",
       "      <th>CALLS_CARE_CNTS_L6M</th>\n",
       "      <td>10300.0</td>\n",
       "      <td>0.079029</td>\n",
       "      <td>0.430156</td>\n",
       "      <td>0.0000</td>\n",
       "      <td>0.0000</td>\n",
       "      <td>0.0000</td>\n",
       "      <td>0.0000</td>\n",
       "      <td>9.0000</td>\n",
       "    </tr>\n",
       "  </tbody>\n",
       "</table>\n",
       "</div>"
      ],
      "text/plain": [
       "                               count           mean            std     min  \\\n",
       "SUBSCRIPTION_KEY             10350.0  238842.335362  137379.999580  4.0000   \n",
       "AVERAGE_SPEND                10300.0      10.210563       5.477842  1.3500   \n",
       "VOICE_OFFNET_CNT_L3M         10350.0      14.447729      21.641523  0.0000   \n",
       "VOICE_OUTBOUND_ROAM_CNT_L3M  10300.0       1.683107       7.276299  0.0000   \n",
       "SMS_OUTBOUND_ROAM_CNT_L3M    10300.0       2.631942      16.140975  0.0000   \n",
       "DATA_CNT_L3M                 10300.0       0.000000       0.000000  0.0000   \n",
       "DATA_VOLUME_L3M              10300.0       0.000000       0.000000  0.0000   \n",
       "NUM_OF_UPGRADES              10300.0       0.071942       0.290927  0.0000   \n",
       "TOPUP_VALUE_L3M              10300.0      30.609399      16.508226  4.0569   \n",
       "TOPUP_CNT_L3M                10300.0       2.024951       1.051014  1.0000   \n",
       "CALLS_CARE_CNTS_L6M          10300.0       0.079029       0.430156  0.0000   \n",
       "\n",
       "                                     25%          50%          75%  \\\n",
       "SUBSCRIPTION_KEY             120194.2500  238182.0000  357392.2500   \n",
       "AVERAGE_SPEND                     5.4200      10.8400      16.2600   \n",
       "VOICE_OFFNET_CNT_L3M              0.0000       5.0000      19.0000   \n",
       "VOICE_OUTBOUND_ROAM_CNT_L3M       0.0000       0.0000       0.0000   \n",
       "SMS_OUTBOUND_ROAM_CNT_L3M         0.0000       0.0000       0.0000   \n",
       "DATA_CNT_L3M                      0.0000       0.0000       0.0000   \n",
       "DATA_VOLUME_L3M                   0.0000       0.0000       0.0000   \n",
       "NUM_OF_UPGRADES                   0.0000       0.0000       0.0000   \n",
       "TOPUP_VALUE_L3M                  16.2602      32.5204      48.7806   \n",
       "TOPUP_CNT_L3M                     1.0000       2.0000       3.0000   \n",
       "CALLS_CARE_CNTS_L6M               0.0000       0.0000       0.0000   \n",
       "\n",
       "                                     max  \n",
       "SUBSCRIPTION_KEY             477531.0000  \n",
       "AVERAGE_SPEND                    46.0700  \n",
       "VOICE_OFFNET_CNT_L3M            204.0000  \n",
       "VOICE_OUTBOUND_ROAM_CNT_L3M     380.0000  \n",
       "SMS_OUTBOUND_ROAM_CNT_L3M       681.0000  \n",
       "DATA_CNT_L3M                      0.0000  \n",
       "DATA_VOLUME_L3M                   0.0000  \n",
       "NUM_OF_UPGRADES                   3.0000  \n",
       "TOPUP_VALUE_L3M                 138.2117  \n",
       "TOPUP_CNT_L3M                    12.0000  \n",
       "CALLS_CARE_CNTS_L6M               9.0000  "
      ]
     },
     "execution_count": 118,
     "metadata": {},
     "output_type": "execute_result"
    }
   ],
   "source": [
    "data.describe().T"
   ]
  },
  {
   "cell_type": "code",
   "execution_count": 119,
   "metadata": {},
   "outputs": [],
   "source": [
    "# print(Counter(data['DATA_CNT_L3M']))\n",
    "# print(Counter(data['DATA_VOLUME_L3M']))\n",
    "\n",
    "# Dropping redundant and unnecessary columns, also dropping features with only single value\n",
    "data.drop(['SUBSCRIPTION_KEY', 'DATA_CNT_L3M', 'DATA_VOLUME_L3M', 'TOPUP_VALUE_L3M', 'TOPUP_CNT_L3M'], axis=1, inplace=True)"
   ]
  },
  {
   "cell_type": "markdown",
   "metadata": {},
   "source": [
    "#### Initial Observations:\n",
    "\n",
    "- There are a total of 10350 records in the dataset with 10000 records set to 'NO' upgrade and the remaining 350 records set to 'YES'.\n",
    "- At first glance, it is a binary classification problem with imbalance issue clearly visible.\n",
    "- There are a total of 20 features and 1 target variable in the dataset.\n",
    "- There are no duplicate records.\n",
    "- There are no negative values as shown from the min values.\n",
    "- The columns have different ranges and magnitudes which suggests that scaling could be required if distance based algorithms are used.\n",
    "- There is definite skewness in few of the variables since there is a jump from min 0 compared to max.\n",
    "- There are missing values visible but they range across different rows and columns. The missing value count of all variables is 50 which is peculiar.\n",
    "- Dropping 'DATA_CNT_L3M', 'DATA_VOLUME_L3M' as they contain single values as they doesn't provide any variability for our analysis.\n",
    "- Dropping TOPUP_VALUE_L3M and TOPUP_CNT_L3M as these are redundant columns and can be derived from AVERAGE SPEND."
   ]
  },
  {
   "cell_type": "markdown",
   "metadata": {},
   "source": [
    "## Missing value treatment"
   ]
  },
  {
   "cell_type": "code",
   "execution_count": 120,
   "metadata": {},
   "outputs": [
    {
     "data": {
      "image/png": "[encoded data removed]",
      "text/plain": [
       "<Figure size 432x288 with 2 Axes>"
      ]
     },
     "metadata": {
      "needs_background": "light"
     },
     "output_type": "display_data"
    }
   ],
   "source": [
    "# Visualizing missing values across data\n",
    "\n",
    "sns.heatmap(data.isnull(), cmap='viridis');"
   ]
  },
  {
   "cell_type": "markdown",
   "metadata": {},
   "source": [
    "### Handling numerical columns with missing data"
   ]
  },
  {
   "cell_type": "code",
   "execution_count": 121,
   "metadata": {},
   "outputs": [
    {
     "data": {
      "text/plain": [
       "AVERAGE_SPEND                  50\n",
       "VOICE_OUTBOUND_ROAM_CNT_L3M    50\n",
       "SMS_OUTBOUND_ROAM_CNT_L3M      50\n",
       "NUM_OF_UPGRADES                50\n",
       "CALLS_CARE_CNTS_L6M            50\n",
       "dtype: int64"
      ]
     },
     "execution_count": 121,
     "metadata": {},
     "output_type": "execute_result"
    }
   ],
   "source": [
    "num_cols = [var for var in data.columns if data[var].dtype=='int64' or data[var].dtype=='float64']\n",
    "data[num_cols].isna().sum().loc[lambda x : x>0]"
   ]
  },
  {
   "cell_type": "code",
   "execution_count": 122,
   "metadata": {},
   "outputs": [],
   "source": [
    "# Using mean imputation to impute float variables\n",
    "\n",
    "num_nul_cols = ['AVERAGE_SPEND', 'VOICE_OUTBOUND_ROAM_CNT_L3M', 'SMS_OUTBOUND_ROAM_CNT_L3M']\n",
    "\n",
    "data[num_nul_cols] = data[num_nul_cols].fillna(data[num_nul_cols].mean())"
   ]
  },
  {
   "cell_type": "code",
   "execution_count": 123,
   "metadata": {},
   "outputs": [
    {
     "data": {
      "text/plain": [
       "NUM_OF_UPGRADES        50\n",
       "LOYALTY_FLAG           50\n",
       "SEGMENT                50\n",
       "CALLS_CARE_CNTS_L6M    50\n",
       "AUTO_TOPUP             50\n",
       "dtype: int64"
      ]
     },
     "execution_count": 123,
     "metadata": {},
     "output_type": "execute_result"
    }
   ],
   "source": [
    "data.isna().sum().loc[lambda x: x>0]"
   ]
  },
  {
   "cell_type": "markdown",
   "metadata": {},
   "source": [
    "### Handling nominal categorical columns with missing data"
   ]
  },
  {
   "cell_type": "code",
   "execution_count": 124,
   "metadata": {},
   "outputs": [],
   "source": [
    "for col in ['VOICE_OFFNET_DUR_L3M', 'SMS_OFFNET_CNT_L3M']:\n",
    "    data[col] = data[col].str.strip()\n",
    "    data[col] = data[col].str.replace(',','',regex=True)\n",
    "    data[col] = data[col].apply(pd.to_numeric) "
   ]
  },
  {
   "cell_type": "markdown",
   "metadata": {},
   "source": [
    "### Handling categorical columns with missing data"
   ]
  },
  {
   "cell_type": "code",
   "execution_count": 125,
   "metadata": {},
   "outputs": [
    {
     "name": "stdout",
     "output_type": "stream",
     "text": [
      "Counter({'No': 6952, 'Yes': 3348, nan: 50})\n",
      "Counter({'Segment3': 4759, 'Segment1': 2242, 'Segment2': 1678, 'Segment4': 1597, nan: 50, 'UNKNOWN': 24})\n",
      "Counter({'N': 10139, 'Y': 161, nan: 50})\n"
     ]
    }
   ],
   "source": [
    "cat_cols = ['LOYALTY_FLAG', 'SEGMENT', 'AUTO_TOPUP']\n",
    "\n",
    "for i in cat_cols:\n",
    "    print(Counter(data[i]))"
   ]
  },
  {
   "cell_type": "code",
   "execution_count": 126,
   "metadata": {},
   "outputs": [],
   "source": [
    "# Imputing na with 'UNKNOWN' since this already exists and retaining it captures the importance of missingness\n",
    "data['SEGMENT'] = data['SEGMENT'].fillna(\"UNKNOWN\")"
   ]
  },
  {
   "cell_type": "code",
   "execution_count": 127,
   "metadata": {},
   "outputs": [],
   "source": [
    "# Creating function to impute with most frequency category\n",
    "def nan_freq_imputer(df,ColName):\n",
    "     most_freq_cat=df[ColName].mode()[0]\n",
    "    # replace nan values with most occured category\n",
    "     df[ColName].fillna(most_freq_cat,inplace=True)"
   ]
  },
  {
   "cell_type": "code",
   "execution_count": 128,
   "metadata": {},
   "outputs": [],
   "source": [
    "for col in ['LOYALTY_FLAG', 'AUTO_TOPUP', 'NUM_OF_UPGRADES', 'CALLS_CARE_CNTS_L6M']:\n",
    "    nan_freq_imputer(data,col)"
   ]
  },
  {
   "cell_type": "code",
   "execution_count": 129,
   "metadata": {
    "scrolled": true
   },
   "outputs": [],
   "source": [
    "# for i in cat_cols:\n",
    "#     print(Counter(data[i]))"
   ]
  },
  {
   "cell_type": "markdown",
   "metadata": {},
   "source": [
    "#### Actions Taken:\n",
    "\n",
    "- Missing value treatment is done using the below ways:\n",
    "    - Numerical values: Mean imputation is performed to impute the missing values.\n",
    "    - Categorical values: Frequency imputation is performed for 2 of them and since only feature already has the 'UNKNOWN' categorical these NA values are imputed with 'UNKNOWN'."
   ]
  },
  {
   "cell_type": "markdown",
   "metadata": {},
   "source": [
    "# Data Visualization"
   ]
  },
  {
   "cell_type": "code",
   "execution_count": 130,
   "metadata": {
    "scrolled": false
   },
   "outputs": [],
   "source": [
    "# sns.pairplot(data[num_cols]);\n",
    "# data[num_cols].hist(figsize=(12, 10), color='darkblue');"
   ]
  },
  {
   "cell_type": "code",
   "execution_count": 131,
   "metadata": {},
   "outputs": [
    {
     "data": {
      "text/html": [
       "<div>\n",
       "<style scoped>\n",
       "    .dataframe tbody tr th:only-of-type {\n",
       "        vertical-align: middle;\n",
       "    }\n",
       "\n",
       "    .dataframe tbody tr th {\n",
       "        vertical-align: top;\n",
       "    }\n",
       "\n",
       "    .dataframe thead th {\n",
       "        text-align: right;\n",
       "    }\n",
       "</style>\n",
       "<table border=\"1\" class=\"dataframe\">\n",
       "  <thead>\n",
       "    <tr style=\"text-align: right;\">\n",
       "      <th></th>\n",
       "      <th>AVERAGE_SPEND</th>\n",
       "      <th>VOICE_OFFNET_CNT_L3M</th>\n",
       "      <th>VOICE_OFFNET_DUR_L3M</th>\n",
       "      <th>VOICE_OUTBOUND_ROAM_CNT_L3M</th>\n",
       "      <th>SMS_OFFNET_CNT_L3M</th>\n",
       "      <th>SMS_OUTBOUND_ROAM_CNT_L3M</th>\n",
       "      <th>NUM_OF_UPGRADES</th>\n",
       "      <th>HANDSET_FIRST_DATE</th>\n",
       "      <th>HANDSET_LATEST_DATE</th>\n",
       "      <th>LOYALTY_FLAG</th>\n",
       "      <th>SEGMENT</th>\n",
       "      <th>CALLS_CARE_CNTS_L6M</th>\n",
       "      <th>AUTO_TOPUP</th>\n",
       "      <th>UPGRADE_FLAG</th>\n",
       "    </tr>\n",
       "  </thead>\n",
       "  <tbody>\n",
       "    <tr>\n",
       "      <th>0</th>\n",
       "      <td>2.71</td>\n",
       "      <td>6</td>\n",
       "      <td>283</td>\n",
       "      <td>0.0</td>\n",
       "      <td>2</td>\n",
       "      <td>0.0</td>\n",
       "      <td>2.0</td>\n",
       "      <td>2015-09-26</td>\n",
       "      <td>2016-01-07</td>\n",
       "      <td>No</td>\n",
       "      <td>Segment3</td>\n",
       "      <td>0.0</td>\n",
       "      <td>N</td>\n",
       "      <td>NO</td>\n",
       "    </tr>\n",
       "    <tr>\n",
       "      <th>1</th>\n",
       "      <td>16.26</td>\n",
       "      <td>3</td>\n",
       "      <td>34</td>\n",
       "      <td>1.0</td>\n",
       "      <td>13</td>\n",
       "      <td>9.0</td>\n",
       "      <td>0.0</td>\n",
       "      <td>2015-07-24</td>\n",
       "      <td>2016-01-07</td>\n",
       "      <td>Yes</td>\n",
       "      <td>Segment4</td>\n",
       "      <td>1.0</td>\n",
       "      <td>N</td>\n",
       "      <td>NO</td>\n",
       "    </tr>\n",
       "    <tr>\n",
       "      <th>2</th>\n",
       "      <td>5.42</td>\n",
       "      <td>15</td>\n",
       "      <td>2477</td>\n",
       "      <td>0.0</td>\n",
       "      <td>36</td>\n",
       "      <td>0.0</td>\n",
       "      <td>0.0</td>\n",
       "      <td>2012-09-04</td>\n",
       "      <td>2016-01-07</td>\n",
       "      <td>No</td>\n",
       "      <td>Segment2</td>\n",
       "      <td>0.0</td>\n",
       "      <td>N</td>\n",
       "      <td>NO</td>\n",
       "    </tr>\n",
       "    <tr>\n",
       "      <th>3</th>\n",
       "      <td>16.26</td>\n",
       "      <td>8</td>\n",
       "      <td>1702</td>\n",
       "      <td>0.0</td>\n",
       "      <td>25</td>\n",
       "      <td>0.0</td>\n",
       "      <td>0.0</td>\n",
       "      <td>2014-10-10</td>\n",
       "      <td>2016-01-07</td>\n",
       "      <td>No</td>\n",
       "      <td>Segment4</td>\n",
       "      <td>0.0</td>\n",
       "      <td>N</td>\n",
       "      <td>NO</td>\n",
       "    </tr>\n",
       "    <tr>\n",
       "      <th>4</th>\n",
       "      <td>2.71</td>\n",
       "      <td>2</td>\n",
       "      <td>106</td>\n",
       "      <td>0.0</td>\n",
       "      <td>25</td>\n",
       "      <td>0.0</td>\n",
       "      <td>0.0</td>\n",
       "      <td>2015-05-17</td>\n",
       "      <td>2016-01-07</td>\n",
       "      <td>No</td>\n",
       "      <td>Segment3</td>\n",
       "      <td>0.0</td>\n",
       "      <td>N</td>\n",
       "      <td>NO</td>\n",
       "    </tr>\n",
       "  </tbody>\n",
       "</table>\n",
       "</div>"
      ],
      "text/plain": [
       "   AVERAGE_SPEND  VOICE_OFFNET_CNT_L3M  VOICE_OFFNET_DUR_L3M  \\\n",
       "0           2.71                     6                   283   \n",
       "1          16.26                     3                    34   \n",
       "2           5.42                    15                  2477   \n",
       "3          16.26                     8                  1702   \n",
       "4           2.71                     2                   106   \n",
       "\n",
       "   VOICE_OUTBOUND_ROAM_CNT_L3M  SMS_OFFNET_CNT_L3M  SMS_OUTBOUND_ROAM_CNT_L3M  \\\n",
       "0                          0.0                   2                        0.0   \n",
       "1                          1.0                  13                        9.0   \n",
       "2                          0.0                  36                        0.0   \n",
       "3                          0.0                  25                        0.0   \n",
       "4                          0.0                  25                        0.0   \n",
       "\n",
       "   NUM_OF_UPGRADES HANDSET_FIRST_DATE HANDSET_LATEST_DATE LOYALTY_FLAG  \\\n",
       "0              2.0         2015-09-26          2016-01-07           No   \n",
       "1              0.0         2015-07-24          2016-01-07          Yes   \n",
       "2              0.0         2012-09-04          2016-01-07           No   \n",
       "3              0.0         2014-10-10          2016-01-07           No   \n",
       "4              0.0         2015-05-17          2016-01-07           No   \n",
       "\n",
       "    SEGMENT  CALLS_CARE_CNTS_L6M AUTO_TOPUP UPGRADE_FLAG  \n",
       "0  Segment3                  0.0          N           NO  \n",
       "1  Segment4                  1.0          N           NO  \n",
       "2  Segment2                  0.0          N           NO  \n",
       "3  Segment4                  0.0          N           NO  \n",
       "4  Segment3                  0.0          N           NO  "
      ]
     },
     "execution_count": 131,
     "metadata": {},
     "output_type": "execute_result"
    }
   ],
   "source": [
    "data.head()"
   ]
  },
  {
   "cell_type": "code",
   "execution_count": 132,
   "metadata": {},
   "outputs": [],
   "source": [
    "# data['HANDSET_FIRST_DATE'].min()"
   ]
  },
  {
   "cell_type": "code",
   "execution_count": 94,
   "metadata": {},
   "outputs": [
    {
     "data": {
      "image/png": "[encoded data removed]",
      "text/plain": [
       "<Figure size 576x432 with 1 Axes>"
      ]
     },
     "metadata": {
      "needs_background": "light"
     },
     "output_type": "display_data"
    }
   ],
   "source": [
    "plt.figure(figsize=(8,6))\n",
    "plt.title(\"Distribution of Average Spend\")\n",
    "sns.distplot(data['AVERAGE_SPEND']);"
   ]
  },
  {
   "cell_type": "code",
   "execution_count": 70,
   "metadata": {},
   "outputs": [
    {
     "data": {
      "text/plain": [
       "<matplotlib.axes._subplots.AxesSubplot at 0x1ed00c57148>"
      ]
     },
     "execution_count": 70,
     "metadata": {},
     "output_type": "execute_result"
    },
    {
     "data": {
      "image/png": "[encoded data removed]",
      "text/plain": [
       "<Figure size 1008x288 with 2 Axes>"
      ]
     },
     "metadata": {
      "needs_background": "light"
     },
     "output_type": "display_data"
    }
   ],
   "source": [
    "fig, (ax1, ax2) = plt.subplots(1, 2, figsize=(14, 4))\n",
    "sns.countplot(x=\"UPGRADE_FLAG\", data=data, ax=ax1)\n",
    "sns.countplot(x=\"UPGRADE_FLAG\", data=data, hue=\"SEGMENT\", ax=ax2)"
   ]
  },
  {
   "cell_type": "code",
   "execution_count": 71,
   "metadata": {},
   "outputs": [
    {
     "data": {
      "text/plain": [
       "<matplotlib.axes._subplots.AxesSubplot at 0x1ed0434d508>"
      ]
     },
     "execution_count": 71,
     "metadata": {},
     "output_type": "execute_result"
    },
    {
     "data": {
      "image/png": "[encoded data removed]",
      "text/plain": [
       "<Figure size 1008x288 with 2 Axes>"
      ]
     },
     "metadata": {
      "needs_background": "light"
     },
     "output_type": "display_data"
    }
   ],
   "source": [
    "fig, (ax1, ax2) = plt.subplots(1, 2, figsize=(14, 4))\n",
    "sns.countplot(x=\"UPGRADE_FLAG\", data=data, hue=\"LOYALTY_FLAG\", ax=ax1)\n",
    "sns.countplot(x=\"UPGRADE_FLAG\", data=data, hue=\"AUTO_TOPUP\", ax=ax2)"
   ]
  },
  {
   "cell_type": "code",
   "execution_count": 73,
   "metadata": {},
   "outputs": [
    {
     "data": {
      "text/html": [
       "<div>\n",
       "<style scoped>\n",
       "    .dataframe tbody tr th:only-of-type {\n",
       "        vertical-align: middle;\n",
       "    }\n",
       "\n",
       "    .dataframe tbody tr th {\n",
       "        vertical-align: top;\n",
       "    }\n",
       "\n",
       "    .dataframe thead th {\n",
       "        text-align: right;\n",
       "    }\n",
       "</style>\n",
       "<table border=\"1\" class=\"dataframe\">\n",
       "  <thead>\n",
       "    <tr style=\"text-align: right;\">\n",
       "      <th>UPGRADE_FLAG</th>\n",
       "      <th>NO</th>\n",
       "      <th>YES</th>\n",
       "    </tr>\n",
       "    <tr>\n",
       "      <th>SEGMENT</th>\n",
       "      <th></th>\n",
       "      <th></th>\n",
       "    </tr>\n",
       "  </thead>\n",
       "  <tbody>\n",
       "    <tr>\n",
       "      <th>Segment1</th>\n",
       "      <td>2144</td>\n",
       "      <td>98</td>\n",
       "    </tr>\n",
       "    <tr>\n",
       "      <th>Segment2</th>\n",
       "      <td>1641</td>\n",
       "      <td>37</td>\n",
       "    </tr>\n",
       "    <tr>\n",
       "      <th>Segment3</th>\n",
       "      <td>4650</td>\n",
       "      <td>109</td>\n",
       "    </tr>\n",
       "    <tr>\n",
       "      <th>Segment4</th>\n",
       "      <td>1502</td>\n",
       "      <td>95</td>\n",
       "    </tr>\n",
       "    <tr>\n",
       "      <th>UNKNOWN</th>\n",
       "      <td>63</td>\n",
       "      <td>11</td>\n",
       "    </tr>\n",
       "  </tbody>\n",
       "</table>\n",
       "</div>"
      ],
      "text/plain": [
       "UPGRADE_FLAG    NO  YES\n",
       "SEGMENT                \n",
       "Segment1      2144   98\n",
       "Segment2      1641   37\n",
       "Segment3      4650  109\n",
       "Segment4      1502   95\n",
       "UNKNOWN         63   11"
      ]
     },
     "execution_count": 73,
     "metadata": {},
     "output_type": "execute_result"
    }
   ],
   "source": [
    "# data.groupby('SEGMENT')['UPGRADE_FLAG'].value_counts()\n",
    "pd.crosstab(data['SEGMENT'], data['UPGRADE_FLAG'])"
   ]
  },
  {
   "cell_type": "markdown",
   "metadata": {},
   "source": [
    "# Feature Engineering & Selection"
   ]
  },
  {
   "cell_type": "code",
   "execution_count": 74,
   "metadata": {},
   "outputs": [],
   "source": [
    "# Replacing Yes, No to 1 and 0\n",
    "data = data.replace({'LOYALTY_FLAG': {'Yes': 1, 'No': 0},\n",
    "                    'AUTO_TOPUP': {'Y': 1, 'N': 0},\n",
    "                   'UPGRADE_FLAG': {'YES': 1,'NO': 0},\n",
    "                    'SEGMENT': {'Segment1': 1, 'Segment2': 2, 'Segment3': 3,\n",
    "                        'Segment4': 4, 'UNKNOWN': 0}} )\n",
    "\n",
    "# for i in cat_cols:\n",
    "#     print(Counter(data[i]))"
   ]
  },
  {
   "cell_type": "code",
   "execution_count": 75,
   "metadata": {
    "scrolled": true
   },
   "outputs": [],
   "source": [
    "# Converting categorical feature 'SEGMENT' to dummies\n",
    "# data = pd.get_dummies(data, columns=['SEGMENT'])"
   ]
  },
  {
   "cell_type": "code",
   "execution_count": 76,
   "metadata": {},
   "outputs": [],
   "source": [
    "# Creating handset recency column\n",
    "data['HANDSET_RECENCY'] = (data['HANDSET_LATEST_DATE']-data['HANDSET_FIRST_DATE']).dt.days\n",
    "\n",
    "# Dropping date columns\n",
    "data.drop(['HANDSET_FIRST_DATE','HANDSET_LATEST_DATE'], axis=1, inplace=True)"
   ]
  },
  {
   "cell_type": "code",
   "execution_count": 77,
   "metadata": {},
   "outputs": [
    {
     "data": {
      "text/html": [
       "<div>\n",
       "<style scoped>\n",
       "    .dataframe tbody tr th:only-of-type {\n",
       "        vertical-align: middle;\n",
       "    }\n",
       "\n",
       "    .dataframe tbody tr th {\n",
       "        vertical-align: top;\n",
       "    }\n",
       "\n",
       "    .dataframe thead th {\n",
       "        text-align: right;\n",
       "    }\n",
       "</style>\n",
       "<table border=\"1\" class=\"dataframe\">\n",
       "  <thead>\n",
       "    <tr style=\"text-align: right;\">\n",
       "      <th></th>\n",
       "      <th>AVERAGE_SPEND</th>\n",
       "      <th>VOICE_OFFNET_CNT_L3M</th>\n",
       "      <th>VOICE_OFFNET_DUR_L3M</th>\n",
       "      <th>VOICE_OUTBOUND_ROAM_CNT_L3M</th>\n",
       "      <th>SMS_OFFNET_CNT_L3M</th>\n",
       "      <th>SMS_OUTBOUND_ROAM_CNT_L3M</th>\n",
       "      <th>NUM_OF_UPGRADES</th>\n",
       "      <th>LOYALTY_FLAG</th>\n",
       "      <th>SEGMENT</th>\n",
       "      <th>CALLS_CARE_CNTS_L6M</th>\n",
       "      <th>AUTO_TOPUP</th>\n",
       "      <th>UPGRADE_FLAG</th>\n",
       "      <th>HANDSET_RECENCY</th>\n",
       "    </tr>\n",
       "  </thead>\n",
       "  <tbody>\n",
       "    <tr>\n",
       "      <th>5</th>\n",
       "      <td>5.42</td>\n",
       "      <td>0</td>\n",
       "      <td>0</td>\n",
       "      <td>0.0</td>\n",
       "      <td>0</td>\n",
       "      <td>0.0</td>\n",
       "      <td>0.0</td>\n",
       "      <td>0</td>\n",
       "      <td>3</td>\n",
       "      <td>0.0</td>\n",
       "      <td>0</td>\n",
       "      <td>0</td>\n",
       "      <td>-999</td>\n",
       "    </tr>\n",
       "    <tr>\n",
       "      <th>1222</th>\n",
       "      <td>2.71</td>\n",
       "      <td>6</td>\n",
       "      <td>204</td>\n",
       "      <td>0.0</td>\n",
       "      <td>1</td>\n",
       "      <td>0.0</td>\n",
       "      <td>0.0</td>\n",
       "      <td>0</td>\n",
       "      <td>4</td>\n",
       "      <td>0.0</td>\n",
       "      <td>0</td>\n",
       "      <td>0</td>\n",
       "      <td>-999</td>\n",
       "    </tr>\n",
       "    <tr>\n",
       "      <th>1433</th>\n",
       "      <td>5.42</td>\n",
       "      <td>2</td>\n",
       "      <td>18</td>\n",
       "      <td>0.0</td>\n",
       "      <td>27</td>\n",
       "      <td>0.0</td>\n",
       "      <td>0.0</td>\n",
       "      <td>0</td>\n",
       "      <td>3</td>\n",
       "      <td>0.0</td>\n",
       "      <td>0</td>\n",
       "      <td>0</td>\n",
       "      <td>-999</td>\n",
       "    </tr>\n",
       "    <tr>\n",
       "      <th>1582</th>\n",
       "      <td>10.84</td>\n",
       "      <td>0</td>\n",
       "      <td>0</td>\n",
       "      <td>0.0</td>\n",
       "      <td>0</td>\n",
       "      <td>0.0</td>\n",
       "      <td>0.0</td>\n",
       "      <td>1</td>\n",
       "      <td>2</td>\n",
       "      <td>0.0</td>\n",
       "      <td>0</td>\n",
       "      <td>0</td>\n",
       "      <td>-999</td>\n",
       "    </tr>\n",
       "    <tr>\n",
       "      <th>1982</th>\n",
       "      <td>16.26</td>\n",
       "      <td>0</td>\n",
       "      <td>0</td>\n",
       "      <td>0.0</td>\n",
       "      <td>0</td>\n",
       "      <td>2.0</td>\n",
       "      <td>0.0</td>\n",
       "      <td>1</td>\n",
       "      <td>3</td>\n",
       "      <td>0.0</td>\n",
       "      <td>0</td>\n",
       "      <td>0</td>\n",
       "      <td>-999</td>\n",
       "    </tr>\n",
       "    <tr>\n",
       "      <th>2126</th>\n",
       "      <td>2.71</td>\n",
       "      <td>1</td>\n",
       "      <td>31</td>\n",
       "      <td>7.0</td>\n",
       "      <td>2</td>\n",
       "      <td>8.0</td>\n",
       "      <td>0.0</td>\n",
       "      <td>0</td>\n",
       "      <td>3</td>\n",
       "      <td>0.0</td>\n",
       "      <td>0</td>\n",
       "      <td>0</td>\n",
       "      <td>-999</td>\n",
       "    </tr>\n",
       "    <tr>\n",
       "      <th>2214</th>\n",
       "      <td>21.68</td>\n",
       "      <td>48</td>\n",
       "      <td>4991</td>\n",
       "      <td>0.0</td>\n",
       "      <td>26</td>\n",
       "      <td>0.0</td>\n",
       "      <td>0.0</td>\n",
       "      <td>0</td>\n",
       "      <td>3</td>\n",
       "      <td>0.0</td>\n",
       "      <td>0</td>\n",
       "      <td>0</td>\n",
       "      <td>-999</td>\n",
       "    </tr>\n",
       "    <tr>\n",
       "      <th>3161</th>\n",
       "      <td>1.36</td>\n",
       "      <td>0</td>\n",
       "      <td>0</td>\n",
       "      <td>0.0</td>\n",
       "      <td>0</td>\n",
       "      <td>0.0</td>\n",
       "      <td>0.0</td>\n",
       "      <td>0</td>\n",
       "      <td>3</td>\n",
       "      <td>0.0</td>\n",
       "      <td>0</td>\n",
       "      <td>0</td>\n",
       "      <td>-999</td>\n",
       "    </tr>\n",
       "    <tr>\n",
       "      <th>3424</th>\n",
       "      <td>5.42</td>\n",
       "      <td>10</td>\n",
       "      <td>5053</td>\n",
       "      <td>0.0</td>\n",
       "      <td>6</td>\n",
       "      <td>0.0</td>\n",
       "      <td>0.0</td>\n",
       "      <td>0</td>\n",
       "      <td>2</td>\n",
       "      <td>0.0</td>\n",
       "      <td>0</td>\n",
       "      <td>0</td>\n",
       "      <td>-999</td>\n",
       "    </tr>\n",
       "    <tr>\n",
       "      <th>3658</th>\n",
       "      <td>10.84</td>\n",
       "      <td>17</td>\n",
       "      <td>4175</td>\n",
       "      <td>0.0</td>\n",
       "      <td>2</td>\n",
       "      <td>0.0</td>\n",
       "      <td>0.0</td>\n",
       "      <td>0</td>\n",
       "      <td>2</td>\n",
       "      <td>0.0</td>\n",
       "      <td>0</td>\n",
       "      <td>1</td>\n",
       "      <td>-999</td>\n",
       "    </tr>\n",
       "    <tr>\n",
       "      <th>4538</th>\n",
       "      <td>2.71</td>\n",
       "      <td>0</td>\n",
       "      <td>0</td>\n",
       "      <td>0.0</td>\n",
       "      <td>0</td>\n",
       "      <td>0.0</td>\n",
       "      <td>0.0</td>\n",
       "      <td>0</td>\n",
       "      <td>3</td>\n",
       "      <td>0.0</td>\n",
       "      <td>0</td>\n",
       "      <td>0</td>\n",
       "      <td>-999</td>\n",
       "    </tr>\n",
       "    <tr>\n",
       "      <th>5073</th>\n",
       "      <td>5.42</td>\n",
       "      <td>2</td>\n",
       "      <td>20</td>\n",
       "      <td>0.0</td>\n",
       "      <td>36</td>\n",
       "      <td>0.0</td>\n",
       "      <td>0.0</td>\n",
       "      <td>0</td>\n",
       "      <td>2</td>\n",
       "      <td>0.0</td>\n",
       "      <td>0</td>\n",
       "      <td>0</td>\n",
       "      <td>-999</td>\n",
       "    </tr>\n",
       "    <tr>\n",
       "      <th>5363</th>\n",
       "      <td>5.42</td>\n",
       "      <td>7</td>\n",
       "      <td>140</td>\n",
       "      <td>4.0</td>\n",
       "      <td>5</td>\n",
       "      <td>36.0</td>\n",
       "      <td>0.0</td>\n",
       "      <td>0</td>\n",
       "      <td>3</td>\n",
       "      <td>0.0</td>\n",
       "      <td>0</td>\n",
       "      <td>0</td>\n",
       "      <td>-999</td>\n",
       "    </tr>\n",
       "    <tr>\n",
       "      <th>5773</th>\n",
       "      <td>5.42</td>\n",
       "      <td>0</td>\n",
       "      <td>0</td>\n",
       "      <td>0.0</td>\n",
       "      <td>3</td>\n",
       "      <td>0.0</td>\n",
       "      <td>0.0</td>\n",
       "      <td>1</td>\n",
       "      <td>2</td>\n",
       "      <td>0.0</td>\n",
       "      <td>0</td>\n",
       "      <td>0</td>\n",
       "      <td>-999</td>\n",
       "    </tr>\n",
       "    <tr>\n",
       "      <th>6207</th>\n",
       "      <td>10.84</td>\n",
       "      <td>0</td>\n",
       "      <td>0</td>\n",
       "      <td>0.0</td>\n",
       "      <td>0</td>\n",
       "      <td>0.0</td>\n",
       "      <td>0.0</td>\n",
       "      <td>0</td>\n",
       "      <td>3</td>\n",
       "      <td>0.0</td>\n",
       "      <td>0</td>\n",
       "      <td>0</td>\n",
       "      <td>-999</td>\n",
       "    </tr>\n",
       "    <tr>\n",
       "      <th>6362</th>\n",
       "      <td>5.42</td>\n",
       "      <td>6</td>\n",
       "      <td>1405</td>\n",
       "      <td>0.0</td>\n",
       "      <td>6</td>\n",
       "      <td>0.0</td>\n",
       "      <td>0.0</td>\n",
       "      <td>0</td>\n",
       "      <td>3</td>\n",
       "      <td>0.0</td>\n",
       "      <td>0</td>\n",
       "      <td>0</td>\n",
       "      <td>-999</td>\n",
       "    </tr>\n",
       "    <tr>\n",
       "      <th>6377</th>\n",
       "      <td>16.26</td>\n",
       "      <td>59</td>\n",
       "      <td>4416</td>\n",
       "      <td>0.0</td>\n",
       "      <td>197</td>\n",
       "      <td>0.0</td>\n",
       "      <td>0.0</td>\n",
       "      <td>1</td>\n",
       "      <td>2</td>\n",
       "      <td>0.0</td>\n",
       "      <td>0</td>\n",
       "      <td>0</td>\n",
       "      <td>-999</td>\n",
       "    </tr>\n",
       "    <tr>\n",
       "      <th>6525</th>\n",
       "      <td>2.71</td>\n",
       "      <td>0</td>\n",
       "      <td>0</td>\n",
       "      <td>0.0</td>\n",
       "      <td>0</td>\n",
       "      <td>0.0</td>\n",
       "      <td>0.0</td>\n",
       "      <td>0</td>\n",
       "      <td>3</td>\n",
       "      <td>0.0</td>\n",
       "      <td>0</td>\n",
       "      <td>0</td>\n",
       "      <td>-999</td>\n",
       "    </tr>\n",
       "    <tr>\n",
       "      <th>7220</th>\n",
       "      <td>13.55</td>\n",
       "      <td>0</td>\n",
       "      <td>0</td>\n",
       "      <td>0.0</td>\n",
       "      <td>0</td>\n",
       "      <td>0.0</td>\n",
       "      <td>0.0</td>\n",
       "      <td>0</td>\n",
       "      <td>3</td>\n",
       "      <td>0.0</td>\n",
       "      <td>0</td>\n",
       "      <td>0</td>\n",
       "      <td>-999</td>\n",
       "    </tr>\n",
       "    <tr>\n",
       "      <th>7410</th>\n",
       "      <td>5.42</td>\n",
       "      <td>0</td>\n",
       "      <td>0</td>\n",
       "      <td>0.0</td>\n",
       "      <td>0</td>\n",
       "      <td>2.0</td>\n",
       "      <td>0.0</td>\n",
       "      <td>0</td>\n",
       "      <td>2</td>\n",
       "      <td>0.0</td>\n",
       "      <td>0</td>\n",
       "      <td>0</td>\n",
       "      <td>-999</td>\n",
       "    </tr>\n",
       "    <tr>\n",
       "      <th>7729</th>\n",
       "      <td>16.26</td>\n",
       "      <td>0</td>\n",
       "      <td>0</td>\n",
       "      <td>0.0</td>\n",
       "      <td>0</td>\n",
       "      <td>0.0</td>\n",
       "      <td>0.0</td>\n",
       "      <td>0</td>\n",
       "      <td>4</td>\n",
       "      <td>0.0</td>\n",
       "      <td>0</td>\n",
       "      <td>0</td>\n",
       "      <td>-999</td>\n",
       "    </tr>\n",
       "    <tr>\n",
       "      <th>8708</th>\n",
       "      <td>16.26</td>\n",
       "      <td>0</td>\n",
       "      <td>0</td>\n",
       "      <td>0.0</td>\n",
       "      <td>0</td>\n",
       "      <td>0.0</td>\n",
       "      <td>0.0</td>\n",
       "      <td>0</td>\n",
       "      <td>3</td>\n",
       "      <td>0.0</td>\n",
       "      <td>0</td>\n",
       "      <td>0</td>\n",
       "      <td>-999</td>\n",
       "    </tr>\n",
       "    <tr>\n",
       "      <th>8999</th>\n",
       "      <td>10.84</td>\n",
       "      <td>6</td>\n",
       "      <td>607</td>\n",
       "      <td>4.0</td>\n",
       "      <td>16</td>\n",
       "      <td>0.0</td>\n",
       "      <td>0.0</td>\n",
       "      <td>0</td>\n",
       "      <td>2</td>\n",
       "      <td>0.0</td>\n",
       "      <td>0</td>\n",
       "      <td>0</td>\n",
       "      <td>-999</td>\n",
       "    </tr>\n",
       "    <tr>\n",
       "      <th>9184</th>\n",
       "      <td>5.42</td>\n",
       "      <td>1</td>\n",
       "      <td>11</td>\n",
       "      <td>0.0</td>\n",
       "      <td>197</td>\n",
       "      <td>0.0</td>\n",
       "      <td>0.0</td>\n",
       "      <td>0</td>\n",
       "      <td>3</td>\n",
       "      <td>0.0</td>\n",
       "      <td>0</td>\n",
       "      <td>0</td>\n",
       "      <td>-999</td>\n",
       "    </tr>\n",
       "    <tr>\n",
       "      <th>10175</th>\n",
       "      <td>2.71</td>\n",
       "      <td>3</td>\n",
       "      <td>117</td>\n",
       "      <td>0.0</td>\n",
       "      <td>2</td>\n",
       "      <td>0.0</td>\n",
       "      <td>0.0</td>\n",
       "      <td>0</td>\n",
       "      <td>3</td>\n",
       "      <td>0.0</td>\n",
       "      <td>0</td>\n",
       "      <td>0</td>\n",
       "      <td>-999</td>\n",
       "    </tr>\n",
       "  </tbody>\n",
       "</table>\n",
       "</div>"
      ],
      "text/plain": [
       "       AVERAGE_SPEND  VOICE_OFFNET_CNT_L3M  VOICE_OFFNET_DUR_L3M  \\\n",
       "5               5.42                     0                     0   \n",
       "1222            2.71                     6                   204   \n",
       "1433            5.42                     2                    18   \n",
       "1582           10.84                     0                     0   \n",
       "1982           16.26                     0                     0   \n",
       "2126            2.71                     1                    31   \n",
       "2214           21.68                    48                  4991   \n",
       "3161            1.36                     0                     0   \n",
       "3424            5.42                    10                  5053   \n",
       "3658           10.84                    17                  4175   \n",
       "4538            2.71                     0                     0   \n",
       "5073            5.42                     2                    20   \n",
       "5363            5.42                     7                   140   \n",
       "5773            5.42                     0                     0   \n",
       "6207           10.84                     0                     0   \n",
       "6362            5.42                     6                  1405   \n",
       "6377           16.26                    59                  4416   \n",
       "6525            2.71                     0                     0   \n",
       "7220           13.55                     0                     0   \n",
       "7410            5.42                     0                     0   \n",
       "7729           16.26                     0                     0   \n",
       "8708           16.26                     0                     0   \n",
       "8999           10.84                     6                   607   \n",
       "9184            5.42                     1                    11   \n",
       "10175           2.71                     3                   117   \n",
       "\n",
       "       VOICE_OUTBOUND_ROAM_CNT_L3M  SMS_OFFNET_CNT_L3M  \\\n",
       "5                              0.0                   0   \n",
       "1222                           0.0                   1   \n",
       "1433                           0.0                  27   \n",
       "1582                           0.0                   0   \n",
       "1982                           0.0                   0   \n",
       "2126                           7.0                   2   \n",
       "2214                           0.0                  26   \n",
       "3161                           0.0                   0   \n",
       "3424                           0.0                   6   \n",
       "3658                           0.0                   2   \n",
       "4538                           0.0                   0   \n",
       "5073                           0.0                  36   \n",
       "5363                           4.0                   5   \n",
       "5773                           0.0                   3   \n",
       "6207                           0.0                   0   \n",
       "6362                           0.0                   6   \n",
       "6377                           0.0                 197   \n",
       "6525                           0.0                   0   \n",
       "7220                           0.0                   0   \n",
       "7410                           0.0                   0   \n",
       "7729                           0.0                   0   \n",
       "8708                           0.0                   0   \n",
       "8999                           4.0                  16   \n",
       "9184                           0.0                 197   \n",
       "10175                          0.0                   2   \n",
       "\n",
       "       SMS_OUTBOUND_ROAM_CNT_L3M  NUM_OF_UPGRADES  LOYALTY_FLAG  SEGMENT  \\\n",
       "5                            0.0              0.0             0        3   \n",
       "1222                         0.0              0.0             0        4   \n",
       "1433                         0.0              0.0             0        3   \n",
       "1582                         0.0              0.0             1        2   \n",
       "1982                         2.0              0.0             1        3   \n",
       "2126                         8.0              0.0             0        3   \n",
       "2214                         0.0              0.0             0        3   \n",
       "3161                         0.0              0.0             0        3   \n",
       "3424                         0.0              0.0             0        2   \n",
       "3658                         0.0              0.0             0        2   \n",
       "4538                         0.0              0.0             0        3   \n",
       "5073                         0.0              0.0             0        2   \n",
       "5363                        36.0              0.0             0        3   \n",
       "5773                         0.0              0.0             1        2   \n",
       "6207                         0.0              0.0             0        3   \n",
       "6362                         0.0              0.0             0        3   \n",
       "6377                         0.0              0.0             1        2   \n",
       "6525                         0.0              0.0             0        3   \n",
       "7220                         0.0              0.0             0        3   \n",
       "7410                         2.0              0.0             0        2   \n",
       "7729                         0.0              0.0             0        4   \n",
       "8708                         0.0              0.0             0        3   \n",
       "8999                         0.0              0.0             0        2   \n",
       "9184                         0.0              0.0             0        3   \n",
       "10175                        0.0              0.0             0        3   \n",
       "\n",
       "       CALLS_CARE_CNTS_L6M  AUTO_TOPUP  UPGRADE_FLAG  HANDSET_RECENCY  \n",
       "5                      0.0           0             0             -999  \n",
       "1222                   0.0           0             0             -999  \n",
       "1433                   0.0           0             0             -999  \n",
       "1582                   0.0           0             0             -999  \n",
       "1982                   0.0           0             0             -999  \n",
       "2126                   0.0           0             0             -999  \n",
       "2214                   0.0           0             0             -999  \n",
       "3161                   0.0           0             0             -999  \n",
       "3424                   0.0           0             0             -999  \n",
       "3658                   0.0           0             1             -999  \n",
       "4538                   0.0           0             0             -999  \n",
       "5073                   0.0           0             0             -999  \n",
       "5363                   0.0           0             0             -999  \n",
       "5773                   0.0           0             0             -999  \n",
       "6207                   0.0           0             0             -999  \n",
       "6362                   0.0           0             0             -999  \n",
       "6377                   0.0           0             0             -999  \n",
       "6525                   0.0           0             0             -999  \n",
       "7220                   0.0           0             0             -999  \n",
       "7410                   0.0           0             0             -999  \n",
       "7729                   0.0           0             0             -999  \n",
       "8708                   0.0           0             0             -999  \n",
       "8999                   0.0           0             0             -999  \n",
       "9184                   0.0           0             0             -999  \n",
       "10175                  0.0           0             0             -999  "
      ]
     },
     "execution_count": 77,
     "metadata": {},
     "output_type": "execute_result"
    }
   ],
   "source": [
    "data.query('HANDSET_RECENCY < 0')"
   ]
  },
  {
   "cell_type": "code",
   "execution_count": 78,
   "metadata": {},
   "outputs": [],
   "source": [
    "# Removing the rows with Hanset_Recency less than 0\n",
    "data = data[data['HANDSET_RECENCY']>0]"
   ]
  },
  {
   "cell_type": "code",
   "execution_count": 79,
   "metadata": {},
   "outputs": [
    {
     "data": {
      "text/html": [
       "<div>\n",
       "<style scoped>\n",
       "    .dataframe tbody tr th:only-of-type {\n",
       "        vertical-align: middle;\n",
       "    }\n",
       "\n",
       "    .dataframe tbody tr th {\n",
       "        vertical-align: top;\n",
       "    }\n",
       "\n",
       "    .dataframe thead th {\n",
       "        text-align: right;\n",
       "    }\n",
       "</style>\n",
       "<table border=\"1\" class=\"dataframe\">\n",
       "  <thead>\n",
       "    <tr style=\"text-align: right;\">\n",
       "      <th></th>\n",
       "      <th>count</th>\n",
       "      <th>mean</th>\n",
       "      <th>std</th>\n",
       "      <th>min</th>\n",
       "      <th>25%</th>\n",
       "      <th>50%</th>\n",
       "      <th>75%</th>\n",
       "      <th>max</th>\n",
       "    </tr>\n",
       "  </thead>\n",
       "  <tbody>\n",
       "    <tr>\n",
       "      <th>AVERAGE_SPEND</th>\n",
       "      <td>10325.0</td>\n",
       "      <td>10.215207</td>\n",
       "      <td>5.463613</td>\n",
       "      <td>1.35</td>\n",
       "      <td>5.42</td>\n",
       "      <td>10.84</td>\n",
       "      <td>16.26</td>\n",
       "      <td>46.07</td>\n",
       "    </tr>\n",
       "    <tr>\n",
       "      <th>VOICE_OFFNET_CNT_L3M</th>\n",
       "      <td>10325.0</td>\n",
       "      <td>14.466441</td>\n",
       "      <td>21.652690</td>\n",
       "      <td>0.00</td>\n",
       "      <td>0.00</td>\n",
       "      <td>5.00</td>\n",
       "      <td>19.00</td>\n",
       "      <td>204.00</td>\n",
       "    </tr>\n",
       "    <tr>\n",
       "      <th>VOICE_OFFNET_DUR_L3M</th>\n",
       "      <td>10325.0</td>\n",
       "      <td>896.746247</td>\n",
       "      <td>1477.533707</td>\n",
       "      <td>0.00</td>\n",
       "      <td>0.00</td>\n",
       "      <td>229.00</td>\n",
       "      <td>1162.00</td>\n",
       "      <td>18873.00</td>\n",
       "    </tr>\n",
       "    <tr>\n",
       "      <th>VOICE_OUTBOUND_ROAM_CNT_L3M</th>\n",
       "      <td>10325.0</td>\n",
       "      <td>1.685729</td>\n",
       "      <td>7.266808</td>\n",
       "      <td>0.00</td>\n",
       "      <td>0.00</td>\n",
       "      <td>0.00</td>\n",
       "      <td>0.00</td>\n",
       "      <td>380.00</td>\n",
       "    </tr>\n",
       "    <tr>\n",
       "      <th>SMS_OFFNET_CNT_L3M</th>\n",
       "      <td>10325.0</td>\n",
       "      <td>64.014818</td>\n",
       "      <td>205.702969</td>\n",
       "      <td>0.00</td>\n",
       "      <td>0.00</td>\n",
       "      <td>9.00</td>\n",
       "      <td>50.00</td>\n",
       "      <td>6538.00</td>\n",
       "    </tr>\n",
       "    <tr>\n",
       "      <th>SMS_OUTBOUND_ROAM_CNT_L3M</th>\n",
       "      <td>10325.0</td>\n",
       "      <td>2.633666</td>\n",
       "      <td>16.117549</td>\n",
       "      <td>0.00</td>\n",
       "      <td>0.00</td>\n",
       "      <td>0.00</td>\n",
       "      <td>0.00</td>\n",
       "      <td>681.00</td>\n",
       "    </tr>\n",
       "    <tr>\n",
       "      <th>NUM_OF_UPGRADES</th>\n",
       "      <td>10325.0</td>\n",
       "      <td>0.071768</td>\n",
       "      <td>0.290596</td>\n",
       "      <td>0.00</td>\n",
       "      <td>0.00</td>\n",
       "      <td>0.00</td>\n",
       "      <td>0.00</td>\n",
       "      <td>3.00</td>\n",
       "    </tr>\n",
       "    <tr>\n",
       "      <th>LOYALTY_FLAG</th>\n",
       "      <td>10325.0</td>\n",
       "      <td>0.323874</td>\n",
       "      <td>0.467975</td>\n",
       "      <td>0.00</td>\n",
       "      <td>0.00</td>\n",
       "      <td>0.00</td>\n",
       "      <td>1.00</td>\n",
       "      <td>1.00</td>\n",
       "    </tr>\n",
       "    <tr>\n",
       "      <th>SEGMENT</th>\n",
       "      <td>10325.0</td>\n",
       "      <td>2.536949</td>\n",
       "      <td>1.017341</td>\n",
       "      <td>0.00</td>\n",
       "      <td>2.00</td>\n",
       "      <td>3.00</td>\n",
       "      <td>3.00</td>\n",
       "      <td>4.00</td>\n",
       "    </tr>\n",
       "    <tr>\n",
       "      <th>CALLS_CARE_CNTS_L6M</th>\n",
       "      <td>10325.0</td>\n",
       "      <td>0.078838</td>\n",
       "      <td>0.429653</td>\n",
       "      <td>0.00</td>\n",
       "      <td>0.00</td>\n",
       "      <td>0.00</td>\n",
       "      <td>0.00</td>\n",
       "      <td>9.00</td>\n",
       "    </tr>\n",
       "    <tr>\n",
       "      <th>AUTO_TOPUP</th>\n",
       "      <td>10325.0</td>\n",
       "      <td>0.015593</td>\n",
       "      <td>0.123901</td>\n",
       "      <td>0.00</td>\n",
       "      <td>0.00</td>\n",
       "      <td>0.00</td>\n",
       "      <td>0.00</td>\n",
       "      <td>1.00</td>\n",
       "    </tr>\n",
       "    <tr>\n",
       "      <th>UPGRADE_FLAG</th>\n",
       "      <td>10325.0</td>\n",
       "      <td>0.033801</td>\n",
       "      <td>0.180727</td>\n",
       "      <td>0.00</td>\n",
       "      <td>0.00</td>\n",
       "      <td>0.00</td>\n",
       "      <td>0.00</td>\n",
       "      <td>1.00</td>\n",
       "    </tr>\n",
       "    <tr>\n",
       "      <th>HANDSET_RECENCY</th>\n",
       "      <td>10325.0</td>\n",
       "      <td>425.221598</td>\n",
       "      <td>373.393604</td>\n",
       "      <td>1.00</td>\n",
       "      <td>150.00</td>\n",
       "      <td>298.00</td>\n",
       "      <td>619.00</td>\n",
       "      <td>3639.00</td>\n",
       "    </tr>\n",
       "  </tbody>\n",
       "</table>\n",
       "</div>"
      ],
      "text/plain": [
       "                               count        mean          std   min     25%  \\\n",
       "AVERAGE_SPEND                10325.0   10.215207     5.463613  1.35    5.42   \n",
       "VOICE_OFFNET_CNT_L3M         10325.0   14.466441    21.652690  0.00    0.00   \n",
       "VOICE_OFFNET_DUR_L3M         10325.0  896.746247  1477.533707  0.00    0.00   \n",
       "VOICE_OUTBOUND_ROAM_CNT_L3M  10325.0    1.685729     7.266808  0.00    0.00   \n",
       "SMS_OFFNET_CNT_L3M           10325.0   64.014818   205.702969  0.00    0.00   \n",
       "SMS_OUTBOUND_ROAM_CNT_L3M    10325.0    2.633666    16.117549  0.00    0.00   \n",
       "NUM_OF_UPGRADES              10325.0    0.071768     0.290596  0.00    0.00   \n",
       "LOYALTY_FLAG                 10325.0    0.323874     0.467975  0.00    0.00   \n",
       "SEGMENT                      10325.0    2.536949     1.017341  0.00    2.00   \n",
       "CALLS_CARE_CNTS_L6M          10325.0    0.078838     0.429653  0.00    0.00   \n",
       "AUTO_TOPUP                   10325.0    0.015593     0.123901  0.00    0.00   \n",
       "UPGRADE_FLAG                 10325.0    0.033801     0.180727  0.00    0.00   \n",
       "HANDSET_RECENCY              10325.0  425.221598   373.393604  1.00  150.00   \n",
       "\n",
       "                                50%      75%       max  \n",
       "AVERAGE_SPEND                 10.84    16.26     46.07  \n",
       "VOICE_OFFNET_CNT_L3M           5.00    19.00    204.00  \n",
       "VOICE_OFFNET_DUR_L3M         229.00  1162.00  18873.00  \n",
       "VOICE_OUTBOUND_ROAM_CNT_L3M    0.00     0.00    380.00  \n",
       "SMS_OFFNET_CNT_L3M             9.00    50.00   6538.00  \n",
       "SMS_OUTBOUND_ROAM_CNT_L3M      0.00     0.00    681.00  \n",
       "NUM_OF_UPGRADES                0.00     0.00      3.00  \n",
       "LOYALTY_FLAG                   0.00     1.00      1.00  \n",
       "SEGMENT                        3.00     3.00      4.00  \n",
       "CALLS_CARE_CNTS_L6M            0.00     0.00      9.00  \n",
       "AUTO_TOPUP                     0.00     0.00      1.00  \n",
       "UPGRADE_FLAG                   0.00     0.00      1.00  \n",
       "HANDSET_RECENCY              298.00   619.00   3639.00  "
      ]
     },
     "execution_count": 79,
     "metadata": {},
     "output_type": "execute_result"
    }
   ],
   "source": [
    "data.describe().T"
   ]
  },
  {
   "cell_type": "code",
   "execution_count": 80,
   "metadata": {},
   "outputs": [
    {
     "data": {
      "image/png": "[encoded data removed]",
      "text/plain": [
       "<Figure size 1440x576 with 2 Axes>"
      ]
     },
     "metadata": {
      "needs_background": "light"
     },
     "output_type": "display_data"
    }
   ],
   "source": [
    "plt.figure(figsize=(20,8))\n",
    "sns.heatmap(data.corr(),cmap='RdBu',annot=True);"
   ]
  },
  {
   "cell_type": "markdown",
   "metadata": {},
   "source": [
    "#### Actions Taken:\n",
    "\n",
    "- Converting Yes, No to 1,0 in LOYALTY_FLAG, AUTO_TOPUP and UPGRADE_FLAG.\n",
    "- Created Handset recency feature using'HANDSET_FIRST_DATE','HANDSET_LATEST_DATE'.\n",
    "- The 'HANDSET_FIRST_DATE' is more recent to 'HANDSET_LATEST_DATE' for 25 rows which creates negative records for the 'HANDSET_RECENCY' which are being removed considering it is a small number.\n",
    "- There is correlation between two variables and the rest of the features look pretty good and shows very low collinearity."
   ]
  },
  {
   "cell_type": "code",
   "execution_count": 81,
   "metadata": {},
   "outputs": [],
   "source": [
    "# Splitting the data into train and test\n",
    "X = data.drop(['UPGRADE_FLAG'], axis=1)\n",
    "y = data['UPGRADE_FLAG']\n",
    "\n",
    "X_train, X_test, y_train, y_test = train_test_split(X, y, test_size=0.3, stratify=y, random_state=42)"
   ]
  },
  {
   "cell_type": "code",
   "execution_count": 82,
   "metadata": {},
   "outputs": [
    {
     "name": "stdout",
     "output_type": "stream",
     "text": [
      "(7227, 12)\n",
      "(3098, 12)\n",
      "(7227,)\n",
      "(3098,)\n"
     ]
    }
   ],
   "source": [
    "print(X_train.shape)\n",
    "print(X_test.shape)\n",
    "print(y_train.shape)\n",
    "print(y_test.shape)"
   ]
  },
  {
   "cell_type": "code",
   "execution_count": 83,
   "metadata": {},
   "outputs": [
    {
     "name": "stdout",
     "output_type": "stream",
     "text": [
      "Percentage of 0 class in train data: 96.62377196623773\n",
      "Percentage of 1 class in train data: 3.3762280337622803\n",
      "Percentage of 0 class in train data: 96.61071659134926\n",
      "Percentage of 1 class in train data: 3.3892834086507424\n"
     ]
    }
   ],
   "source": [
    "print(\"Percentage of 0 class in train data:\", len(y_train[y_train==0])*100/len(y_train))\n",
    "print(\"Percentage of 1 class in train data:\", len(y_train[y_train==1])*100/len(y_train))\n",
    "print(\"Percentage of 0 class in train data:\", len(y_test[y_test==0])*100/len(y_test))\n",
    "print(\"Percentage of 1 class in train data:\", len(y_test[y_test==1])*100/len(y_test))"
   ]
  },
  {
   "cell_type": "markdown",
   "metadata": {},
   "source": [
    "# Model Building"
   ]
  },
  {
   "cell_type": "code",
   "execution_count": 139,
   "metadata": {},
   "outputs": [],
   "source": [
    "#Training models and metrics for each\n",
    "def fit_models(X_train, X_test, y_train, y_test, model_lr=False, model_rf=False,model_xgb=False, \n",
    "               model_lr_tuning=False, model_rf_xgb_tuning=False,\n",
    "              model_lr_class_weight=None, check_overfitting=False):\n",
    "    \n",
    "    # Declaring the scoring parameter\n",
    "    scoring = [ 'precision', 'precision_macro', \n",
    "               'recall', 'recall_macro',\n",
    "               'f1', 'f1_macro']\n",
    "    # Declaring parameters\n",
    "    R_STATE = 42\n",
    "    FOLDS = 5\n",
    "    OVER_SAMPLING_STRATEGY = 0.3\n",
    "    UNDER_SAMPLING_STRATEGY = 0.5\n",
    "    OVER_UNDER_SAMPLING_STRATEGY = 0.5\n",
    "    \n",
    "    # Creating the required scaler and over/under sampling objects\n",
    "    minmax_scaler = MinMaxScaler()\n",
    "    over = SMOTE(sampling_strategy=OVER_SAMPLING_STRATEGY, random_state=R_STATE)\n",
    "    under = RandomUnderSampler(sampling_strategy=UNDER_SAMPLING_STRATEGY, random_state=R_STATE)\n",
    "\n",
    "    # Declaring the models tuples\n",
    "    lr_model = ('LR', LogisticRegression(class_weight=model_lr_class_weight))\n",
    "    rf_model = ('RF', RandomForestClassifier(random_state=R_STATE))\n",
    "    xgb_model = ('XGB', XGBClassifier())\n",
    "    # Declaring the models & other required lists\n",
    "    models, names, dfs = [], [], []\n",
    "    if(model_lr==True):\n",
    "        models.append(lr_model)\n",
    "    if(model_rf==True):\n",
    "        models.append(rf_model)\n",
    "    if(model_xgb==True):\n",
    "        models.append(xgb_model)\n",
    "        \n",
    "    # Creating the KFold argument & other required lists\n",
    "    kfold = StratifiedKFold(n_splits=FOLDS, shuffle=True, random_state=R_STATE)\n",
    "    \n",
    "    for name, model in models:\n",
    "        \n",
    "        # Defining the steps of the pipeline\n",
    "        steps_lr = [('minmaxscaler', minmax_scaler), ('m', model)]\n",
    "        steps_lr_tuning = [('o', over), ('u', under), ('minmaxscaler', minmax_scaler), ('m', model)]\n",
    "        steps_rf_xgb = [('m', model)]\n",
    "        steps_rf_xgb_tuning = [('o', over), ('u', under), ('m', model)]\n",
    "    \n",
    "        if name =='LR':\n",
    "            if model_lr==True and model_lr_tuning==True:\n",
    "                steps = steps_lr_tuning\n",
    "            else:\n",
    "                steps = steps_lr\n",
    "        else:\n",
    "            if (model_rf == True or model_xgb == True) and model_rf_xgb_tuning == True:\n",
    "                steps = steps_rf_xgb_tuning\n",
    "            else:\n",
    "                steps = steps_rf_xgb\n",
    "        \n",
    "        pipeline = Pipeline(steps=steps)\n",
    "\n",
    "        print(\"FOR MODEL:{}\\n\".format(name))\n",
    "        \n",
    "        model = pipeline.fit(X_train, y_train)\n",
    "\n",
    "        if check_overfitting==True:            \n",
    "            y_pred_train = model.predict(X_train)        \n",
    "            print(\"Confusion matrix:\\n\")\n",
    "            cf_matrix_train = confusion_matrix(y_train, y_pred_train)\n",
    "            print(cf_matrix_train)\n",
    "            print(\"Classification report:\\n\",classification_report(y_train, y_pred_train))\n",
    "        \n",
    "        y_pred = model.predict(X_test)        \n",
    "        print(\"Confusion matrix:\\n\")\n",
    "        cf_matrix = confusion_matrix(y_test, y_pred)\n",
    "        print(cf_matrix)\n",
    "        print(\"Classification report:\\n\",classification_report(y_test, y_pred))\n",
    "        \n",
    "        # predict probabilities\n",
    "        yhat = model.predict_proba(X_test)\n",
    "        # retrieve just the probabilities for the positive class\n",
    "        pos_probs = yhat[:, 1]\n",
    "        # calculate the no skill line as the proportion of the positive class\n",
    "        non_defaults = len(y_train[y_train==1]) / len(y_train)\n",
    "        # plot the no skill precision-recall curve\n",
    "        plt.plot([0, 1], [non_defaults, non_defaults], linestyle='--', label='Non Defaults')\n",
    "        # calculate model precision-recall curve\n",
    "        precision, recall, _ = precision_recall_curve(y_test, pos_probs)\n",
    "        auc_score = auc(recall, precision)\n",
    "        print('PR AUC: %.3f' % auc_score)\n",
    "        # plot the model precision-recall curve\n",
    "        plt.plot(recall, precision, marker='.', label=name)\n",
    "        # axis labels\n",
    "        plt.xlabel('Recall')\n",
    "        plt.ylabel('Precision')\n",
    "        # show the legend\n",
    "        plt.legend()\n",
    "        # show the plot\n",
    "        plt.show()\n",
    "        \n",
    "        # Using cross validation\n",
    "        cv_results = cross_validate(pipeline, X_train, y_train, scoring=scoring, cv=kfold, verbose=0)\n",
    "        names.append(name)\n",
    "        this_df = pd.DataFrame(cv_results)\n",
    "        this_df['model'] = name\n",
    "        dfs.append(this_df)\n",
    "        \n",
    "        # Printing means of cross validation results for each model\n",
    "        print('Cross validation mean results for {}'.format(name))\n",
    "        av_col = this_df.mean(axis=0)\n",
    "        print(av_col)\n",
    "    \n",
    "    # Commenting code to print the dataframe of overall results, also add return type in definition\n",
    "#     cv_results_df = pd.concat(dfs,ignore_index=True)\n",
    "#     return cv_results_df\n",
    "        \n",
    "    return model"
   ]
  },
  {
   "cell_type": "code",
   "execution_count": 134,
   "metadata": {
    "scrolled": false
   },
   "outputs": [
    {
     "name": "stdout",
     "output_type": "stream",
     "text": [
      "FOR MODEL:LR\n",
      "\n",
      "Confusion matrix:\n",
      "\n",
      "[[2992    1]\n",
      " [  86   19]]\n",
      "Classification report:\n",
      "               precision    recall  f1-score   support\n",
      "\n",
      "           0       0.97      1.00      0.99      2993\n",
      "           1       0.95      0.18      0.30       105\n",
      "\n",
      "    accuracy                           0.97      3098\n",
      "   macro avg       0.96      0.59      0.64      3098\n",
      "weighted avg       0.97      0.97      0.96      3098\n",
      "\n",
      "PR AUC: 0.536\n"
     ]
    },
    {
     "data": {
      "image/png": "[encoded data removed]",
      "text/plain": [
       "<Figure size 432x288 with 1 Axes>"
      ]
     },
     "metadata": {
      "needs_background": "light"
     },
     "output_type": "display_data"
    },
    {
     "name": "stdout",
     "output_type": "stream",
     "text": [
      "Cross validation mean results for LR\n",
      "fit_time                0.024732\n",
      "score_time              0.008599\n",
      "test_precision          0.890000\n",
      "test_precision_macro    0.930595\n",
      "test_recall             0.151531\n",
      "test_recall_macro       0.575407\n",
      "test_f1                 0.257944\n",
      "test_f1_macro           0.621490\n",
      "dtype: float64\n",
      "FOR MODEL:RF\n",
      "\n",
      "Confusion matrix:\n",
      "\n",
      "[[2990    3]\n",
      " [  75   30]]\n",
      "Classification report:\n",
      "               precision    recall  f1-score   support\n",
      "\n",
      "           0       0.98      1.00      0.99      2993\n",
      "           1       0.91      0.29      0.43       105\n",
      "\n",
      "    accuracy                           0.97      3098\n",
      "   macro avg       0.94      0.64      0.71      3098\n",
      "weighted avg       0.97      0.97      0.97      3098\n",
      "\n",
      "PR AUC: 0.528\n"
     ]
    },
    {
     "data": {
      "image/png": "[encoded data removed]",
      "text/plain": [
       "<Figure size 432x288 with 1 Axes>"
      ]
     },
     "metadata": {
      "needs_background": "light"
     },
     "output_type": "display_data"
    },
    {
     "name": "stdout",
     "output_type": "stream",
     "text": [
      "Cross validation mean results for RF\n",
      "fit_time                0.445406\n",
      "score_time              0.029794\n",
      "test_precision          0.744747\n",
      "test_precision_macro    0.858487\n",
      "test_recall             0.184439\n",
      "test_recall_macro       0.591002\n",
      "test_f1                 0.293956\n",
      "test_f1_macro           0.639344\n",
      "dtype: float64\n",
      "FOR MODEL:XGB\n",
      "\n",
      "Confusion matrix:\n",
      "\n",
      "[[2980   13]\n",
      " [  78   27]]\n",
      "Classification report:\n",
      "               precision    recall  f1-score   support\n",
      "\n",
      "           0       0.97      1.00      0.98      2993\n",
      "           1       0.68      0.26      0.37       105\n",
      "\n",
      "    accuracy                           0.97      3098\n",
      "   macro avg       0.82      0.63      0.68      3098\n",
      "weighted avg       0.96      0.97      0.96      3098\n",
      "\n",
      "PR AUC: 0.410\n"
     ]
    },
    {
     "data": {
      "image/png": "[encoded data removed]",
      "text/plain": [
       "<Figure size 432x288 with 1 Axes>"
      ]
     },
     "metadata": {
      "needs_background": "light"
     },
     "output_type": "display_data"
    },
    {
     "name": "stdout",
     "output_type": "stream",
     "text": [
      "Cross validation mean results for XGB\n",
      "fit_time                0.189066\n",
      "score_time              0.014351\n",
      "test_precision          0.575882\n",
      "test_precision_macro    0.774420\n",
      "test_recall             0.209184\n",
      "test_recall_macro       0.601799\n",
      "test_f1                 0.305795\n",
      "test_f1_macro           0.644682\n",
      "dtype: float64\n"
     ]
    },
    {
     "data": {
      "text/plain": [
       "Pipeline(steps=[('m',\n",
       "                 XGBClassifier(base_score=0.5, booster='gbtree',\n",
       "                               colsample_bylevel=1, colsample_bynode=1,\n",
       "                               colsample_bytree=1, gamma=0, gpu_id=-1,\n",
       "                               importance_type='gain',\n",
       "                               interaction_constraints='',\n",
       "                               learning_rate=0.300000012, max_delta_step=0,\n",
       "                               max_depth=6, min_child_weight=1, missing=nan,\n",
       "                               monotone_constraints='()', n_estimators=100,\n",
       "                               n_jobs=0, num_parallel_tree=1, random_state=0,\n",
       "                               reg_alpha=0, reg_lambda=1, scale_pos_weight=1,\n",
       "                               subsample=1, tree_method='exact',\n",
       "                               validate_parameters=1, verbosity=None))])"
      ]
     },
     "execution_count": 134,
     "metadata": {},
     "output_type": "execute_result"
    }
   ],
   "source": [
    "# Fitting models LR, RF, XGB without over/under sampling\n",
    "fit_models(X_train, X_test, y_train, y_test, model_lr=True, model_rf=True, model_xgb=True)"
   ]
  },
  {
   "cell_type": "code",
   "execution_count": 141,
   "metadata": {},
   "outputs": [
    {
     "name": "stdout",
     "output_type": "stream",
     "text": [
      "FOR MODEL:LR\n",
      "\n",
      "Confusion matrix:\n",
      "\n",
      "[[6389  594]\n",
      " [  97  147]]\n",
      "Classification report:\n",
      "               precision    recall  f1-score   support\n",
      "\n",
      "           0       0.99      0.91      0.95      6983\n",
      "           1       0.20      0.60      0.30       244\n",
      "\n",
      "    accuracy                           0.90      7227\n",
      "   macro avg       0.59      0.76      0.62      7227\n",
      "weighted avg       0.96      0.90      0.93      7227\n",
      "\n",
      "Confusion matrix:\n",
      "\n",
      "[[2768  225]\n",
      " [  36   69]]\n",
      "Classification report:\n",
      "               precision    recall  f1-score   support\n",
      "\n",
      "           0       0.99      0.92      0.95      2993\n",
      "           1       0.23      0.66      0.35       105\n",
      "\n",
      "    accuracy                           0.92      3098\n",
      "   macro avg       0.61      0.79      0.65      3098\n",
      "weighted avg       0.96      0.92      0.93      3098\n",
      "\n",
      "PR AUC: 0.505\n"
     ]
    },
    {
     "data": {
      "image/png": "[encoded data removed]",
      "text/plain": [
       "<Figure size 432x288 with 1 Axes>"
      ]
     },
     "metadata": {
      "needs_background": "light"
     },
     "output_type": "display_data"
    },
    {
     "name": "stdout",
     "output_type": "stream",
     "text": [
      "Cross validation mean results for LR\n",
      "fit_time                0.042991\n",
      "score_time              0.007999\n",
      "test_precision          0.202211\n",
      "test_precision_macro    0.593414\n",
      "test_recall             0.590306\n",
      "test_recall_macro       0.753837\n",
      "test_f1                 0.300809\n",
      "test_f1_macro           0.625295\n",
      "dtype: float64\n"
     ]
    }
   ],
   "source": [
    "# Fitting LR model with over/under sampling\n",
    "lr_model = fit_models(X_train, X_test, y_train, y_test, model_lr=True, model_lr_tuning=True, check_overfitting=True)"
   ]
  },
  {
   "cell_type": "code",
   "execution_count": 153,
   "metadata": {},
   "outputs": [
    {
     "data": {
      "text/plain": [
       "array([ 7.10033846,  1.28883135,  4.41161238, -0.45439533,  0.85657185,\n",
       "       -0.70611693,  4.41667985, -0.4544845 , -1.04052288,  4.96918103,\n",
       "       -1.4906098 , -0.56287045])"
      ]
     },
     "execution_count": 153,
     "metadata": {},
     "output_type": "execute_result"
    }
   ],
   "source": [
    "importance"
   ]
  },
  {
   "cell_type": "code",
   "execution_count": 136,
   "metadata": {},
   "outputs": [
    {
     "name": "stdout",
     "output_type": "stream",
     "text": [
      "FOR MODEL:RF\n",
      "\n",
      "Confusion matrix:\n",
      "\n",
      "[[6912   71]\n",
      " [   0  244]]\n",
      "Classification report:\n",
      "               precision    recall  f1-score   support\n",
      "\n",
      "           0       1.00      0.99      0.99      6983\n",
      "           1       0.77      1.00      0.87       244\n",
      "\n",
      "    accuracy                           0.99      7227\n",
      "   macro avg       0.89      0.99      0.93      7227\n",
      "weighted avg       0.99      0.99      0.99      7227\n",
      "\n",
      "Confusion matrix:\n",
      "\n",
      "[[2941   52]\n",
      " [  60   45]]\n",
      "Classification report:\n",
      "               precision    recall  f1-score   support\n",
      "\n",
      "           0       0.98      0.98      0.98      2993\n",
      "           1       0.46      0.43      0.45       105\n",
      "\n",
      "    accuracy                           0.96      3098\n",
      "   macro avg       0.72      0.71      0.71      3098\n",
      "weighted avg       0.96      0.96      0.96      3098\n",
      "\n",
      "PR AUC: 0.414\n"
     ]
    },
    {
     "data": {
      "image/png": "[encoded data removed]",
      "text/plain": [
       "<Figure size 432x288 with 1 Axes>"
      ]
     },
     "metadata": {
      "needs_background": "light"
     },
     "output_type": "display_data"
    },
    {
     "name": "stdout",
     "output_type": "stream",
     "text": [
      "Cross validation mean results for RF\n",
      "fit_time                0.456584\n",
      "score_time              0.034968\n",
      "test_precision          0.399890\n",
      "test_precision_macro    0.689486\n",
      "test_recall             0.401701\n",
      "test_recall_macro       0.690181\n",
      "test_f1                 0.399862\n",
      "test_f1_macro           0.689365\n",
      "dtype: float64\n"
     ]
    },
    {
     "data": {
      "text/plain": [
       "Pipeline(steps=[('o', SMOTE(random_state=42, sampling_strategy=0.3)),\n",
       "                ('u',\n",
       "                 RandomUnderSampler(random_state=42, sampling_strategy=0.5)),\n",
       "                ('m', RandomForestClassifier(random_state=42))])"
      ]
     },
     "execution_count": 136,
     "metadata": {},
     "output_type": "execute_result"
    }
   ],
   "source": [
    "# Fitting RF with over/under sampling and withnout lda or pca\n",
    "fit_models(X_train, X_test, y_train, y_test, model_rf=True, model_rf_xgb_tuning=True, check_overfitting=True)"
   ]
  },
  {
   "cell_type": "code",
   "execution_count": 137,
   "metadata": {},
   "outputs": [
    {
     "name": "stdout",
     "output_type": "stream",
     "text": [
      "FOR MODEL:XGB\n",
      "\n",
      "Confusion matrix:\n",
      "\n",
      "[[6915   68]\n",
      " [   9  235]]\n",
      "Classification report:\n",
      "               precision    recall  f1-score   support\n",
      "\n",
      "           0       1.00      0.99      0.99      6983\n",
      "           1       0.78      0.96      0.86       244\n",
      "\n",
      "    accuracy                           0.99      7227\n",
      "   macro avg       0.89      0.98      0.93      7227\n",
      "weighted avg       0.99      0.99      0.99      7227\n",
      "\n",
      "Confusion matrix:\n",
      "\n",
      "[[2931   62]\n",
      " [  58   47]]\n",
      "Classification report:\n",
      "               precision    recall  f1-score   support\n",
      "\n",
      "           0       0.98      0.98      0.98      2993\n",
      "           1       0.43      0.45      0.44       105\n",
      "\n",
      "    accuracy                           0.96      3098\n",
      "   macro avg       0.71      0.71      0.71      3098\n",
      "weighted avg       0.96      0.96      0.96      3098\n",
      "\n",
      "PR AUC: 0.406\n"
     ]
    },
    {
     "data": {
      "image/png": "[encoded data removed]",
      "text/plain": [
       "<Figure size 432x288 with 1 Axes>"
      ]
     },
     "metadata": {
      "needs_background": "light"
     },
     "output_type": "display_data"
    },
    {
     "name": "stdout",
     "output_type": "stream",
     "text": [
      "Cross validation mean results for XGB\n",
      "fit_time                0.251308\n",
      "score_time              0.017434\n",
      "test_precision          0.355418\n",
      "test_precision_macro    0.666664\n",
      "test_recall             0.368793\n",
      "test_recall_macro       0.672581\n",
      "test_f1                 0.361247\n",
      "test_f1_macro           0.669192\n",
      "dtype: float64\n"
     ]
    },
    {
     "data": {
      "text/plain": [
       "Pipeline(steps=[('o', SMOTE(random_state=42, sampling_strategy=0.3)),\n",
       "                ('u',\n",
       "                 RandomUnderSampler(random_state=42, sampling_strategy=0.5)),\n",
       "                ('m',\n",
       "                 XGBClassifier(base_score=0.5, booster='gbtree',\n",
       "                               colsample_bylevel=1, colsample_bynode=1,\n",
       "                               colsample_bytree=1, gamma=0, gpu_id=-1,\n",
       "                               importance_type='gain',\n",
       "                               interaction_constraints='',\n",
       "                               learning_rate=0.300000012, max_delta_step=0,\n",
       "                               max_depth=6, min_child_weight=1, missing=nan,\n",
       "                               monotone_constraints='()', n_estimators=100,\n",
       "                               n_jobs=0, num_parallel_tree=1, random_state=0,\n",
       "                               reg_alpha=0, reg_lambda=1, scale_pos_weight=1,\n",
       "                               subsample=1, tree_method='exact',\n",
       "                               validate_parameters=1, verbosity=None))])"
      ]
     },
     "execution_count": 137,
     "metadata": {},
     "output_type": "execute_result"
    }
   ],
   "source": [
    "# Fitting XGB with over/under sampling\n",
    "fit_models(X_train, X_test, y_train, y_test, model_xgb=True, model_rf_xgb_tuning=True, check_overfitting=True)"
   ]
  },
  {
   "cell_type": "code",
   "execution_count": 156,
   "metadata": {},
   "outputs": [
    {
     "data": {
      "text/plain": [
       "Index(['AVERAGE_SPEND', 'VOICE_OFFNET_CNT_L3M', 'VOICE_OFFNET_DUR_L3M',\n",
       "       'VOICE_OUTBOUND_ROAM_CNT_L3M', 'SMS_OFFNET_CNT_L3M',\n",
       "       'SMS_OUTBOUND_ROAM_CNT_L3M', 'NUM_OF_UPGRADES', 'LOYALTY_FLAG',\n",
       "       'SEGMENT', 'CALLS_CARE_CNTS_L6M', 'AUTO_TOPUP', 'HANDSET_RECENCY'],\n",
       "      dtype='object')"
      ]
     },
     "execution_count": 156,
     "metadata": {},
     "output_type": "execute_result"
    }
   ],
   "source": [
    "X_train.columns"
   ]
  },
  {
   "cell_type": "code",
   "execution_count": 159,
   "metadata": {
    "scrolled": false
   },
   "outputs": [
    {
     "name": "stdout",
     "output_type": "stream",
     "text": [
      "Feature: AVERAGE_SPEND, Score: 7.10034\n",
      "Feature: VOICE_OFFNET_CNT_L3M, Score: 1.28883\n",
      "Feature: VOICE_OFFNET_DUR_L3M, Score: 4.41161\n",
      "Feature: VOICE_OUTBOUND_ROAM_CNT_L3M, Score: -0.45440\n",
      "Feature: SMS_OFFNET_CNT_L3M, Score: 0.85657\n",
      "Feature: SMS_OUTBOUND_ROAM_CNT_L3M, Score: -0.70612\n",
      "Feature: NUM_OF_UPGRADES, Score: 4.41668\n",
      "Feature: LOYALTY_FLAG, Score: -0.45448\n",
      "Feature: SEGMENT, Score: -1.04052\n",
      "Feature: CALLS_CARE_CNTS_L6M, Score: 4.96918\n",
      "Feature: AUTO_TOPUP, Score: -1.49061\n",
      "Feature: HANDSET_RECENCY, Score: -0.56287\n"
     ]
    },
    {
     "data": {
      "image/png": "[encoded data removed]",
      "text/plain": [
       "<Figure size 432x288 with 1 Axes>"
      ]
     },
     "metadata": {
      "needs_background": "light"
     },
     "output_type": "display_data"
    }
   ],
   "source": [
    "# feature importance code\n",
    "    \n",
    "importance = lr_model.named_steps['m'].coef_[0]\n",
    "bars = ('AVERAGE_SPEND', 'VOICE_OFFNET_CNT_L3M', 'VOICE_OFFNET_DUR_L3M',\n",
    "       'VOICE_OUTBOUND_ROAM_CNT_L3M', 'SMS_OFFNET_CNT_L3M',\n",
    "       'SMS_OUTBOUND_ROAM_CNT_L3M', 'NUM_OF_UPGRADES', 'LOYALTY_FLAG',\n",
    "       'SEGMENT', 'CALLS_CARE_CNTS_L6M', 'AUTO_TOPUP', 'HANDSET_RECENCY')\n",
    "\n",
    "# summarize feature importance\n",
    "for col,score in zip(X_train.columns,importance):\n",
    "    print('Feature: %0s, Score: %.5f' % (col,score))\n",
    "\n",
    "# plot feature importance\n",
    "plt.bar([x for x in range(len(importance))], importance)\n",
    "plt.xticks([x for x in range(len(importance))], bars, rotation=90)\n",
    "plt.show()"
   ]
  },
  {
   "cell_type": "markdown",
   "metadata": {},
   "source": [
    "#### Observations:\n",
    "\n",
    "- Recall this is a classification problem with classes 0 and 1. Notice that the coefficients are both positive and negative. The positive scores indicate a feature that predicts class 1, whereas the negative scores indicate a feature that predicts class 0. \n",
    "- The important features to predict customer upgrades are:\n",
    "    - AVERAGE_SPEND\n",
    "    - VOICE_OFFNET_DUR_L3M\n",
    "    - NUM_OF_UPGRADES\n",
    "    - CALLS_CARE_CNTS_L6M"
   ]
  }
 ],
 "metadata": {
  "kernelspec": {
   "display_name": "Python 3",
   "language": "python",
   "name": "python3"
  },
  "language_info": {
   "codemirror_mode": {
    "name": "ipython",
    "version": 3
   },
   "file_extension": ".py",
   "mimetype": "text/x-python",
   "name": "python",
   "nbconvert_exporter": "python",
   "pygments_lexer": "ipython3",
   "version": "3.7.4"
  }
 },
 "nbformat": 4,
 "nbformat_minor": 2
}
